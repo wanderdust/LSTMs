{
 "cells": [
  {
   "cell_type": "markdown",
   "metadata": {},
   "source": [
    "# Sentiment Analysis with an RNN\n",
    "\n",
    "In this notebook, you'll implement a recurrent neural network that performs sentiment analysis. \n",
    ">Using an RNN rather than a strictly feedforward network is more accurate since we can include information about the *sequence* of words. \n",
    "\n",
    "Here we'll use a dataset of movie reviews, accompanied by sentiment labels: positive or negative.\n",
    "\n",
    "<img src=\"assets/reviews_ex.png\" width=40%>\n",
    "\n",
    "### Network Architecture\n",
    "\n",
    "The architecture for this network is shown below.\n",
    "\n",
    "<img src=\"assets/network_diagram.png\" width=40%>\n",
    "\n",
    ">**First, we'll pass in words to an embedding layer.** We need an embedding layer because we have tens of thousands of words, so we'll need a more efficient representation for our input data than one-hot encoded vectors. You should have seen this before from the Word2Vec lesson. You can actually train an embedding with the Skip-gram Word2Vec model and use those embeddings as input, here. However, it's good enough to just have an embedding layer and let the network learn a different embedding table on its own. *In this case, the embedding layer is for dimensionality reduction, rather than for learning semantic representations.*\n",
    "\n",
    ">**After input words are passed to an embedding layer, the new embeddings will be passed to LSTM cells.** The LSTM cells will add *recurrent* connections to the network and give us the ability to include information about the *sequence* of words in the movie review data. \n",
    "\n",
    ">**Finally, the LSTM outputs will go to a sigmoid output layer.** We're using a sigmoid function because positive and negative = 1 and 0, respectively, and a sigmoid will output predicted, sentiment values between 0-1. \n",
    "\n",
    "We don't care about the sigmoid outputs except for the **very last one**; we can ignore the rest. We'll calculate the loss by comparing the output at the last time step and the training label (pos or neg)."
   ]
  },
  {
   "cell_type": "markdown",
   "metadata": {},
   "source": [
    "---\n",
    "### Load in and visualize the data"
   ]
  },
  {
   "cell_type": "code",
   "execution_count": 101,
   "metadata": {},
   "outputs": [],
   "source": [
    "import numpy as np\n",
    "\n",
    "# read data from text files\n",
    "with open('data/tweets_full.txt', 'r') as f:\n",
    "    reviews = f.read()\n",
    "with open('data/tweets_full_target.txt', 'r') as f:\n",
    "    labels = f.read()"
   ]
  },
  {
   "cell_type": "code",
   "execution_count": 102,
   "metadata": {},
   "outputs": [],
   "source": [
    "# read data from text files\n",
    "with open('data/tweets_authors.txt', 'r') as f:\n",
    "    authors = f.read()"
   ]
  },
  {
   "cell_type": "code",
   "execution_count": 103,
   "metadata": {},
   "outputs": [
    {
     "name": "stdout",
     "output_type": "stream",
     "text": [
      "@tiffanylue i know  i was listenin to bad habit earlier and i started freakin at his part =[ \n",
      "Layin n bed with a headache  ughhhh...waitin on your call... \n",
      "Funeral ceremony...gloomy friday... \n",
      "wants to hang out with friends SOON! \n",
      "@dannycastillo We want to trade with someone who has Houston tickets, but no one will. \n",
      "Re-pinging @ghostridah14: why didn't you go to prom? BC my bf didn't like my friends \n",
      "I should be sleep, but im not! thinking about an old friend who I want. but he's married now. damn, &amp; he wants me 2! scandalous! \n",
      "Hmmm. http://www.djhero.com/ is down \n",
      "@charviray Charlene my love. I miss you \n",
      "@kelcouch I'm sorry  at least it's Friday? \n",
      "cant fall asleep \n",
      "Choked on her retainers \n",
      "Ugh! I have to beat this stupid song to get to the next  rude! \n",
      "@BrodyJenner if u watch the hills in london u will realise what tourture it is because were weeks and weeks late  i just watch itonlinelol \n",
      "Got the news \n",
      "The storm is here and the electricity is gone \n",
      "@annarosekerr agreed \n",
      "So sleep\n",
      "\n",
      "empty \n",
      "sadness \n",
      "sadn\n",
      "\n",
      "xoshayzers \n",
      "wannamam\n"
     ]
    }
   ],
   "source": [
    "print(reviews[:1000])\n",
    "print()\n",
    "print(labels[:20])\n",
    "print()\n",
    "print(authors[:20])"
   ]
  },
  {
   "cell_type": "markdown",
   "metadata": {},
   "source": [
    "## Data pre-processing\n",
    "\n",
    "The first step when building a neural network model is getting your data into the proper form to feed into the network. Since we're using embedding layers, we'll need to encode each word with an integer. We'll also want to clean it up a bit.\n",
    "\n",
    "You can see an example of the reviews data above. Here are the processing steps, we'll want to take:\n",
    ">* We'll want to get rid of periods and extraneous punctuation.\n",
    "* Also, you might notice that the reviews are delimited with newline characters `\\n`. To deal with those, I'm going to split the text into each review using `\\n` as the delimiter. \n",
    "* Then I can combined all the reviews back together into one big string.\n",
    "\n",
    "First, let's remove all punctuation. Then get all the text without the newlines and split it into individual words."
   ]
  },
  {
   "cell_type": "code",
   "execution_count": 104,
   "metadata": {},
   "outputs": [],
   "source": [
    "from string import punctuation\n",
    "\n",
    "# get rid of punctuation\n",
    "reviews = reviews.lower() # lowercase, standardize\n",
    "all_text = ''.join([c for c in reviews if c not in punctuation])\n",
    "\n",
    "# split by new lines and spaces\n",
    "reviews_split = all_text.split('\\n')\n",
    "all_text = ' '.join(reviews_split)\n",
    "\n",
    "# create a list of words\n",
    "words = all_text.split()"
   ]
  },
  {
   "cell_type": "code",
   "execution_count": 105,
   "metadata": {},
   "outputs": [
    {
     "data": {
      "text/plain": [
       "['tiffanylue',\n",
       " 'i',\n",
       " 'know',\n",
       " 'i',\n",
       " 'was',\n",
       " 'listenin',\n",
       " 'to',\n",
       " 'bad',\n",
       " 'habit',\n",
       " 'earlier',\n",
       " 'and',\n",
       " 'i',\n",
       " 'started',\n",
       " 'freakin',\n",
       " 'at',\n",
       " 'his',\n",
       " 'part',\n",
       " 'layin',\n",
       " 'n',\n",
       " 'bed',\n",
       " 'with',\n",
       " 'a',\n",
       " 'headache',\n",
       " 'ughhhhwaitin',\n",
       " 'on',\n",
       " 'your',\n",
       " 'call',\n",
       " 'funeral',\n",
       " 'ceremonygloomy',\n",
       " 'friday',\n",
       " 'wants',\n",
       " 'to',\n",
       " 'hang',\n",
       " 'out',\n",
       " 'with',\n",
       " 'friends',\n",
       " 'soon',\n",
       " 'dannycastillo',\n",
       " 'we']"
      ]
     },
     "execution_count": 105,
     "metadata": {},
     "output_type": "execute_result"
    }
   ],
   "source": [
    "words[:39]"
   ]
  },
  {
   "cell_type": "markdown",
   "metadata": {},
   "source": [
    "### Encoding the words\n",
    "\n",
    "The embedding lookup requires that we pass in integers to our network. The easiest way to do this is to create dictionaries that map the words in the vocabulary to integers. Then we can convert each of our reviews into integers so they can be passed into the network.\n",
    "\n",
    "> **Exercise:** Now you're going to encode the words with integers. Build a dictionary that maps words to integers. Later we're going to pad our input vectors with zeros, so make sure the integers **start at 1, not 0**.\n",
    "> Also, convert the reviews to integers and store the reviews in a new list called `reviews_ints`. "
   ]
  },
  {
   "cell_type": "code",
   "execution_count": 106,
   "metadata": {},
   "outputs": [],
   "source": [
    "# feel free to use this import \n",
    "from collections import Counter\n",
    "\n",
    "## Build a dictionary that maps words to integers\n",
    "counts = Counter(words)\n",
    "vocab = sorted(counts, key=counts.get, reverse=True)\n",
    "vocab_to_int = {word: ii for ii, word in enumerate(vocab, 1)}\n",
    "\n",
    "## use the dict to tokenize each review in reviews_split\n",
    "## store the tokenized reviews in reviews_ints\n",
    "reviews_ints = []\n",
    "for review in reviews_split:\n",
    "    reviews_ints.append([vocab_to_int[word] for word in review.split()])\n",
    "    \n",
    "reviews_ints = reviews_ints[:-1] # Remove the empty line at the end"
   ]
  },
  {
   "cell_type": "markdown",
   "metadata": {},
   "source": [
    "**Test your code**\n",
    "\n",
    "As a text that you've implemented the dictionary correctly, print out the number of unique words in your vocabulary and the contents of the first, tokenized review."
   ]
  },
  {
   "cell_type": "code",
   "execution_count": 107,
   "metadata": {},
   "outputs": [
    {
     "name": "stdout",
     "output_type": "stream",
     "text": [
      "Unique words:  53747\n",
      "\n",
      "Tokenized review: \n",
      " [14919, 14884, 1038, 50, 2845, 3, 2598, 6, 1, 16, 99, 1954, 4206, 309, 950, 53745, 53746, 53747]\n"
     ]
    }
   ],
   "source": [
    "# stats about vocabulary\n",
    "print('Unique words: ', len((vocab_to_int)))  # should ~ 74000+\n",
    "print()\n",
    "\n",
    "# print tokens in first review\n",
    "print('Tokenized review: \\n', reviews_ints[-1])"
   ]
  },
  {
   "cell_type": "markdown",
   "metadata": {},
   "source": [
    "### Encoding the labels\n",
    "\n",
    "Our labels are \"positive\" or \"negative\". To use these labels in our network, we need to convert them to 0 and 1.\n"
   ]
  },
  {
   "cell_type": "code",
   "execution_count": 108,
   "metadata": {},
   "outputs": [],
   "source": [
    "# 1=positive, 0=negative label conversion\n",
    "labels_split = labels.split('\\n')\n",
    "labels_split = [label.strip() for label in labels_split]\n",
    "\n",
    "label_names = ['neutral', 'worry', 'happiness', 'sadness', 'love', 'surprise',\n",
    "              'fun', 'relief', 'hate', 'empty', \n",
    "             'enthusiasm', 'boredom', 'anger']\n",
    "\n",
    "label_to_int = {k:i for i, k in enumerate(label_names) }\n",
    "int_to_label = {v: k for k, v in label_to_int.items()}\n",
    "encoded_labels = np.array([label_to_int[label] for label in labels_split[:-1]])\n",
    "\n"
   ]
  },
  {
   "cell_type": "code",
   "execution_count": 109,
   "metadata": {},
   "outputs": [
    {
     "name": "stdout",
     "output_type": "stream",
     "text": [
      "{'neutral': 0, 'worry': 1, 'happiness': 2, 'sadness': 3, 'love': 4, 'surprise': 5, 'fun': 6, 'relief': 7, 'hate': 8, 'empty': 9, 'enthusiasm': 10, 'boredom': 11, 'anger': 12}\n",
      "Len of tweets = 40000\n",
      "Len of labels = 40000\n"
     ]
    }
   ],
   "source": [
    "print(label_to_int)\n",
    "\n",
    "print(\"Len of tweets = {}\".format(len(reviews_ints)))\n",
    "print(\"Len of labels = {}\".format(len(encoded_labels)))"
   ]
  },
  {
   "cell_type": "markdown",
   "metadata": {},
   "source": [
    "### Encode the authors of each tweet"
   ]
  },
  {
   "cell_type": "markdown",
   "metadata": {},
   "source": [
    "**Remove punctuation**"
   ]
  },
  {
   "cell_type": "code",
   "execution_count": 110,
   "metadata": {},
   "outputs": [
    {
     "name": "stdout",
     "output_type": "stream",
     "text": [
      "['xoshayzers ', 'wannamama ', 'coolfunky ', 'czareaquino ', 'xkilljoyx ']\n"
     ]
    }
   ],
   "source": [
    "# get rid of punctuation\n",
    "authors = authors.lower() # lowercase, standardize\n",
    "all_authors_text = ''.join([c for c in authors if c not in punctuation])\n",
    "    \n",
    "# split by new lines and spaces\n",
    "authors_split = all_authors_text.split('\\n')\n",
    "all_authors_text = ' '.join(authors_split)\n",
    "\n",
    "# create a list of words\n",
    "all_authors = all_authors_text.split()\n",
    "\n",
    "print(authors_split[:5])"
   ]
  },
  {
   "cell_type": "markdown",
   "metadata": {},
   "source": [
    "**Encoding the authors**"
   ]
  },
  {
   "cell_type": "code",
   "execution_count": 111,
   "metadata": {},
   "outputs": [
    {
     "name": "stdout",
     "output_type": "stream",
     "text": [
      "[ 1065  3901  3902 ... 33861 33862   244]\n"
     ]
    }
   ],
   "source": [
    "# feel free to use this import \n",
    "from collections import Counter\n",
    "\n",
    "## Build a dictionary that maps words to integers\n",
    "counts_auth = Counter(all_authors)\n",
    "vocab_auth = sorted(counts_auth, key=counts_auth.get, reverse=True)\n",
    "vocab_to_int_auth = {word: ii for ii, word in enumerate(vocab_auth, 1)}\n",
    "\n",
    "## use the dict to tokenize each review in reviews_split\n",
    "## store the tokenized reviews in reviews_ints\n",
    "authors_ints = [[vocab_to_int_auth[word] for word in all_authors]]\n",
    "\n",
    "authors_ints = np.array(authors_ints).squeeze()\n",
    "\n",
    "print(authors_ints)"
   ]
  },
  {
   "cell_type": "markdown",
   "metadata": {},
   "source": [
    "### Removing Outliers\n",
    "\n",
    "As an additional pre-processing step, we want to make sure that our reviews are in good shape for standard processing. That is, our network will expect a standard input text size, and so, we'll want to shape our reviews into a specific length. We'll approach this task in two main steps:\n",
    "\n",
    "1. Getting rid of extremely long or short reviews; the outliers\n",
    "2. Padding/truncating the remaining data so that we have reviews of the same length.\n",
    "\n",
    "Before we pad our review text, we should check for reviews of extremely short or long lengths; outliers that may mess with our training."
   ]
  },
  {
   "cell_type": "code",
   "execution_count": 112,
   "metadata": {},
   "outputs": [
    {
     "name": "stdout",
     "output_type": "stream",
     "text": [
      "Zero-length reviews: 0\n",
      "Maximum review length: 33\n"
     ]
    }
   ],
   "source": [
    "# outlier review stats\n",
    "review_lens = Counter([len(x) for x in reviews_ints])\n",
    "print(\"Zero-length reviews: {}\".format(review_lens[0]))\n",
    "print(\"Maximum review length: {}\".format(max(review_lens)))"
   ]
  },
  {
   "cell_type": "markdown",
   "metadata": {},
   "source": [
    "Okay, a couple issues here. We seem to have one review with zero length. And, the maximum review length is way too many steps for our RNN. We'll have to remove any super short reviews and truncate super long reviews. This removes outliers and should allow our model to train more efficiently.\n",
    "\n",
    "> **Exercise:** First, remove *any* reviews with zero length from the `reviews_ints` list and their corresponding label in `encoded_labels`."
   ]
  },
  {
   "cell_type": "code",
   "execution_count": 113,
   "metadata": {},
   "outputs": [
    {
     "name": "stdout",
     "output_type": "stream",
     "text": [
      "Number of reviews before removing outliers:  40000\n",
      "Number of reviews after removing outliers:  40000\n"
     ]
    }
   ],
   "source": [
    "print('Number of reviews before removing outliers: ', len(reviews_ints))\n",
    "\n",
    "## remove any reviews/labels with zero length from the reviews_ints list.\n",
    "\n",
    "# get indices of any reviews with length 0\n",
    "non_zero_idx = [ii for ii, review in enumerate(reviews_ints) if len(review) != 0]\n",
    "\n",
    "# remove 0-length reviews and their labels\n",
    "reviews_ints = [reviews_ints[ii] for ii in non_zero_idx]\n",
    "encoded_labels = np.array([encoded_labels[ii] for ii in non_zero_idx])\n",
    "\n",
    "print('Number of reviews after removing outliers: ', len(reviews_ints))"
   ]
  },
  {
   "cell_type": "markdown",
   "metadata": {},
   "source": [
    "---\n",
    "## Padding sequences\n",
    "\n",
    "To deal with both short and very long reviews, we'll pad or truncate all our reviews to a specific length. For reviews shorter than some `seq_length`, we'll pad with 0s. For reviews longer than `seq_length`, we can truncate them to the first `seq_length` words. A good `seq_length`, in this case, is 200.\n",
    "\n",
    "> **Exercise:** Define a function that returns an array `features` that contains the padded data, of a standard size, that we'll pass to the network. \n",
    "* The data should come from `review_ints`, since we want to feed integers to the network. \n",
    "* Each row should be `seq_length` elements long. \n",
    "* For reviews shorter than `seq_length` words, **left pad** with 0s. That is, if the review is `['best', 'movie', 'ever']`, `[117, 18, 128]` as integers, the row will look like `[0, 0, 0, ..., 0, 117, 18, 128]`. \n",
    "* For reviews longer than `seq_length`, use only the first `seq_length` words as the feature vector.\n",
    "\n",
    "As a small example, if the `seq_length=10` and an input review is: \n",
    "```\n",
    "[117, 18, 128]\n",
    "```\n",
    "The resultant, padded sequence should be: \n",
    "\n",
    "```\n",
    "[0, 0, 0, 0, 0, 0, 0, 117, 18, 128]\n",
    "```\n",
    "\n",
    "**Your final `features` array should be a 2D array, with as many rows as there are reviews, and as many columns as the specified `seq_length`.**\n",
    "\n",
    "This isn't trivial and there are a bunch of ways to do this. But, if you're going to be building your own deep learning networks, you're going to have to get used to preparing your data."
   ]
  },
  {
   "cell_type": "code",
   "execution_count": 114,
   "metadata": {},
   "outputs": [],
   "source": [
    "def pad_features(reviews_ints, seq_length):\n",
    "    ''' Return features of review_ints, where each review is padded with 0's \n",
    "        or truncated to the input seq_length.\n",
    "    '''\n",
    "    \n",
    "    # getting the correct rows x cols shape\n",
    "    features = np.zeros((len(reviews_ints), seq_length), dtype=int)\n",
    "\n",
    "    # for each review, I grab that review and \n",
    "    for i, row in enumerate(reviews_ints):\n",
    "        features[i, -len(row):] = np.array(row)[:seq_length]\n",
    "    \n",
    "    return features"
   ]
  },
  {
   "cell_type": "code",
   "execution_count": 115,
   "metadata": {},
   "outputs": [
    {
     "name": "stdout",
     "output_type": "stream",
     "text": [
      "[[    0     0     0     0     0     0     0     0 14939     1    54     1]\n",
      " [    0     0     0     0     0     0     0     0     0     0     0     0]\n",
      " [    0     0     0     0     0     0     0     0     0     0     0     0]\n",
      " [    0     0     0     0     0     0     0     0     0     0     0     0]\n",
      " [    0     0     0     0     0     0     0     0     0     0 14942    61]\n",
      " [    0     0     0     0     0     0     0     0     0     0  7172 14943]\n",
      " [    1   134    23   131    19    13    27   362    60    85   222   242]\n",
      " [    0     0     0     0     0     0     0     0     0     0     0     0]\n",
      " [    0     0     0     0     0     0     0     0     0     0     0     0]\n",
      " [    0     0     0     0     0     0     0     0     0     0     0     0]\n",
      " [    0     0     0     0     0     0     0     0     0     0     0     0]\n",
      " [    0     0     0     0     0     0     0     0     0     0     0     0]\n",
      " [    0     0     0     0     0     0     0     0     0     0     0   281]\n",
      " [ 9423    70    57   207     3  2155    10   736    57    58  2769    56]\n",
      " [    0     0     0     0     0     0     0     0     0     0     0     0]\n",
      " [    0     0     0     0     0     0     0     0     0     0     0     0]\n",
      " [    0     0     0     0     0     0     0     0     0     0     0     0]\n",
      " [    0     0     0     0     0     0     0     0     0     0     0     0]\n",
      " [    0     0     0     0     0     0     0     0     0  2770   759  2940]\n",
      " [    0     0    79    36     7  3129    18     1    16   180   356     7]\n",
      " [    0     0     0     0     0     0     0     0     0 14954    81    44]\n",
      " [    0     0     0     0     0     0     0   894   110    13   516    25]\n",
      " [    0     0     0     0     0     0     0     0    37  1672  4452  4453]\n",
      " [    0     0     0     0     0     0     0     0     1   737   206     1]\n",
      " [    0     0     0     0     0     0    17   193     6     1    74    13]\n",
      " [    0     0    14     5   136    73   307   169    87   978   422  9424]\n",
      " [    0     0 14966    13   116   143    36    17  1977     2     7  5891]\n",
      " [    0     0     0     0     0     0     0     0     0     0  4454  3994]\n",
      " [    0     0     0     0     0     0     0     0     0     0  3995    20]\n",
      " [    0     0     0     0     0     0     0     0     0     0     0     0]]\n"
     ]
    }
   ],
   "source": [
    "# Test your implementation!\n",
    "\n",
    "seq_length = 25\n",
    "\n",
    "features = pad_features(reviews_ints, seq_length=seq_length)\n",
    "\n",
    "## test statements - do not change - ##\n",
    "assert len(features)==len(reviews_ints), \"Your features should have as many rows as reviews.\"\n",
    "assert len(features[0])==seq_length, \"Each feature row should contain seq_length values.\"\n",
    "\n",
    "# print first 10 values of the first 30 batches \n",
    "print(features[:30,:12])"
   ]
  },
  {
   "cell_type": "markdown",
   "metadata": {},
   "source": [
    "## Training, Validation, Test\n",
    "\n",
    "With our data in nice shape, we'll split it into training, validation, and test sets.\n",
    "\n",
    "> **Exercise:** Create the training, validation, and test sets. \n",
    "* You'll need to create sets for the features and the labels, `train_x` and `train_y`, for example. \n",
    "* Define a split fraction, `split_frac` as the fraction of data to **keep** in the training set. Usually this is set to 0.8 or 0.9. \n",
    "* Whatever data is left will be split in half to create the validation and *testing* data."
   ]
  },
  {
   "cell_type": "code",
   "execution_count": 116,
   "metadata": {},
   "outputs": [
    {
     "name": "stdout",
     "output_type": "stream",
     "text": [
      "\t\t\tFeature Shapes:\n",
      "Train set: \t\t(32000, 25) \n",
      "Validation set: \t(4000, 25) \n",
      "Test set: \t\t(4000, 25)\n"
     ]
    }
   ],
   "source": [
    "split_frac = 0.8\n",
    "\n",
    "## split data into training, validation, and test data (features and labels, x and y)\n",
    "\n",
    "split_idx = int(len(features)*split_frac)\n",
    "train_x, remaining_x = features[:split_idx], features[split_idx:]\n",
    "train_y, remaining_y = encoded_labels[:split_idx], encoded_labels[split_idx:]\n",
    "\n",
    "test_idx = int(len(remaining_x)*0.5)\n",
    "val_x, test_x = remaining_x[:test_idx], remaining_x[test_idx:]\n",
    "val_y, test_y = remaining_y[:test_idx], remaining_y[test_idx:]\n",
    "\n",
    "## print out the shapes of your resultant feature data\n",
    "print(\"\\t\\t\\tFeature Shapes:\")\n",
    "print(\"Train set: \\t\\t{}\".format(train_x.shape), \n",
    "      \"\\nValidation set: \\t{}\".format(val_x.shape),\n",
    "      \"\\nTest set: \\t\\t{}\".format(test_x.shape))\n"
   ]
  },
  {
   "cell_type": "markdown",
   "metadata": {},
   "source": [
    "**Split the authors accordingly**"
   ]
  },
  {
   "cell_type": "code",
   "execution_count": 117,
   "metadata": {},
   "outputs": [
    {
     "name": "stdout",
     "output_type": "stream",
     "text": [
      "\t\t\tFeature Shapes:\n",
      "Train set: \t\t(32000,) \n",
      "Validation set: \t(4000,) \n",
      "Test set: \t\t(4000,)\n"
     ]
    }
   ],
   "source": [
    "authors_x, remaining_authors = authors_ints[:split_idx], authors_ints[split_idx:]\n",
    "\n",
    "authors_val, authors_test = remaining_authors[:test_idx], remaining_authors[test_idx:]\n",
    "\n",
    "print(\"\\t\\t\\tFeature Shapes:\")\n",
    "print(\"Train set: \\t\\t{}\".format(authors_x.shape), \n",
    "      \"\\nValidation set: \\t{}\".format(authors_val.shape),\n",
    "      \"\\nTest set: \\t\\t{}\".format(authors_test.shape))"
   ]
  },
  {
   "cell_type": "markdown",
   "metadata": {},
   "source": [
    "**Check your work**\n",
    "\n",
    "With train, validation, and test fractions equal to 0.8, 0.1, 0.1, respectively, the final, feature data shapes should look like:\n",
    "```\n",
    "                    Feature Shapes:\n",
    "Train set: \t\t (train_size, word_length) \n",
    "Validation set: \t(val_size, word_length) \n",
    "Test set: \t\t  (test_size, word_length)\n",
    "```"
   ]
  },
  {
   "cell_type": "markdown",
   "metadata": {},
   "source": [
    "---\n",
    "## DataLoaders and Batching\n",
    "\n",
    "After creating training, test, and validation data, we can create DataLoaders for this data by following two steps:\n",
    "1. Create a known format for accessing our data, using [TensorDataset](https://pytorch.org/docs/stable/data.html#) which takes in an input set of data and a target set of data with the same first dimension, and creates a dataset.\n",
    "2. Create DataLoaders and batch our training, validation, and test Tensor datasets.\n",
    "\n",
    "```\n",
    "train_data = TensorDataset(torch.from_numpy(train_x), torch.from_numpy(train_y))\n",
    "train_loader = DataLoader(train_data, batch_size=batch_size)\n",
    "```\n",
    "\n",
    "This is an alternative to creating a generator function for batching our data into full batches."
   ]
  },
  {
   "cell_type": "code",
   "execution_count": null,
   "metadata": {},
   "outputs": [],
   "source": []
  },
  {
   "cell_type": "code",
   "execution_count": 118,
   "metadata": {},
   "outputs": [],
   "source": [
    "import torch\n",
    "from torch.utils.data import TensorDataset, DataLoader\n",
    "\n",
    "# create Tensor datasets\n",
    "train_data = TensorDataset(torch.from_numpy(train_x), torch.from_numpy(train_y), torch.from_numpy(authors_x))\n",
    "valid_data = TensorDataset(torch.from_numpy(val_x), torch.from_numpy(val_y), torch.from_numpy(authors_val))\n",
    "test_data = TensorDataset(torch.from_numpy(test_x), torch.from_numpy(test_y), torch.from_numpy(authors_test))\n",
    "\n",
    "# dataloaders\n",
    "batch_size = 50\n",
    "\n",
    "# make sure the SHUFFLE your training data\n",
    "train_loader = DataLoader(train_data, shuffle=True, batch_size=batch_size)\n",
    "valid_loader = DataLoader(valid_data, shuffle=True, batch_size=batch_size)\n",
    "test_loader = DataLoader(test_data, shuffle=True, batch_size=batch_size)"
   ]
  },
  {
   "cell_type": "code",
   "execution_count": 119,
   "metadata": {},
   "outputs": [
    {
     "name": "stdout",
     "output_type": "stream",
     "text": [
      "Sample input size:  torch.Size([50, 25])\n",
      "Sample input: \n",
      " tensor([[    0,     0,     0,  ...,    48,   200,     8],\n",
      "        [    0,     0,     0,  ...,     2,   210, 15464],\n",
      "        [    0,     0,     0,  ...,    30,  1571, 39208],\n",
      "        ...,\n",
      "        [    0,     0,     0,  ...,  7750,    33,     3],\n",
      "        [27231,   133,     3,  ...,  4822,    24,     4],\n",
      "        [    0,    14,     5,  ..., 18699,     6,  1072]])\n",
      "\n",
      "Sample label size:  torch.Size([50])\n",
      "Sample label: \n",
      " tensor([0, 0, 2, 1, 4, 1, 5, 2, 1, 3, 3, 3, 3, 7, 3, 3, 4, 1, 2, 1, 0, 0, 0, 1,\n",
      "        1, 1, 1, 1, 3, 3, 6, 0, 0, 7, 3, 3, 0, 8, 1, 1, 2, 3, 0, 0, 4, 1, 8, 2,\n",
      "        3, 1])\n",
      "\n",
      "Sample label size:  torch.Size([50])\n",
      "Sample label: \n",
      " tensor([14785,   146, 23343,  5200, 23931, 14228, 22133,  2826, 18923, 10121,\n",
      "         1999,  6724,  1454, 24067,  9650, 10968, 23170,  8329, 20052, 14511,\n",
      "         4810,   280, 24318,  1307,  6784,  8238, 20635,  9001, 17670, 19198,\n",
      "         9053,   933, 22247, 20352,  6820, 10667, 18757,   314,  3067,  8957,\n",
      "        23246,  5276, 17916, 25378,  7597,  6199,  3141,  6849, 14240,  7046])\n"
     ]
    }
   ],
   "source": [
    "# obtain one batch of training data\n",
    "dataiter = iter(train_loader)\n",
    "sample_x, sample_y, author = dataiter.next()\n",
    "\n",
    "print('Sample input size: ', sample_x.size()) # batch_size, seq_length\n",
    "print('Sample input: \\n', sample_x)\n",
    "print()\n",
    "print('Sample label size: ', sample_y.size()) # batch_size\n",
    "print('Sample label: \\n', sample_y)\n",
    "print()\n",
    "print('Sample label size: ', author.size()) # batch_size\n",
    "print('Sample label: \\n', author)"
   ]
  },
  {
   "cell_type": "markdown",
   "metadata": {},
   "source": [
    "---\n",
    "# Sentiment Network with PyTorch\n",
    "\n",
    "Below is where you'll define the network.\n",
    "\n",
    "<img src=\"assets/network_diagram.png\" width=40%>\n",
    "\n",
    "The layers are as follows:\n",
    "1. An [embedding layer](https://pytorch.org/docs/stable/nn.html#embedding) that converts our word tokens (integers) into embeddings of a specific size.\n",
    "2. An [LSTM layer](https://pytorch.org/docs/stable/nn.html#lstm) defined by a hidden_state size and number of layers\n",
    "3. A fully-connected output layer that maps the LSTM layer outputs to a desired output_size\n",
    "4. A sigmoid activation layer which turns all outputs into a value 0-1; return **only the last sigmoid output** as the output of this network.\n",
    "\n",
    "### The Embedding Layer\n",
    "\n",
    "We need to add an [embedding layer](https://pytorch.org/docs/stable/nn.html#embedding) because there are 74000+ words in our vocabulary. It is massively inefficient to one-hot encode that many classes. So, instead of one-hot encoding, we can have an embedding layer and use that layer as a lookup table. You could train an embedding layer using Word2Vec, then load it here. But, it's fine to just make a new layer, using it for only dimensionality reduction, and let the network learn the weights.\n",
    "\n",
    "\n",
    "### The LSTM Layer(s)\n",
    "\n",
    "We'll create an [LSTM](https://pytorch.org/docs/stable/nn.html#lstm) to use in our recurrent network, which takes in an input_size, a hidden_dim, a number of layers, a dropout probability (for dropout between multiple layers), and a batch_first parameter.\n",
    "\n",
    "Most of the time, you're network will have better performance with more layers; between 2-3. Adding more layers allows the network to learn really complex relationships. \n",
    "\n",
    "> **Exercise:** Complete the `__init__`, `forward`, and `init_hidden` functions for the SentimentRNN model class.\n",
    "\n",
    "Note: `init_hidden` should initialize the hidden and cell state of an lstm layer to all zeros, and move those state to GPU, if available."
   ]
  },
  {
   "cell_type": "code",
   "execution_count": 120,
   "metadata": {},
   "outputs": [
    {
     "name": "stdout",
     "output_type": "stream",
     "text": [
      "Training on GPU.\n"
     ]
    }
   ],
   "source": [
    "# First checking if GPU is available\n",
    "train_on_gpu=torch.cuda.is_available()\n",
    "\n",
    "if(train_on_gpu):\n",
    "    print('Training on GPU.')\n",
    "else:\n",
    "    print('No GPU available, training on CPU.')"
   ]
  },
  {
   "cell_type": "code",
   "execution_count": 121,
   "metadata": {},
   "outputs": [],
   "source": [
    "import torch.nn as nn\n",
    "\n",
    "class SentimentRNN(nn.Module):\n",
    "    \"\"\"\n",
    "    The RNN model that will be used to perform Sentiment analysis.\n",
    "    \"\"\"\n",
    "\n",
    "    def __init__(self, vocab_size, output_size, embedding_dim, hidden_dim, n_layers, drop_prob=0.5):\n",
    "        \"\"\"\n",
    "        Initialize the model by setting up the layers.\n",
    "        \"\"\"\n",
    "        super(SentimentRNN, self).__init__()\n",
    "\n",
    "        self.output_size = output_size\n",
    "        self.n_layers = n_layers\n",
    "        self.hidden_dim = hidden_dim\n",
    "        \n",
    "        # embedding and LSTM layers\n",
    "        self.embedding = nn.Embedding(vocab_size, embedding_dim)\n",
    "        self.embedding_author = nn.Embedding(len(vocab_to_int_auth)+1, hidden_dim) # make it same dimension as h_t\n",
    "            \n",
    "\n",
    "        self.lstm = nn.LSTM(embedding_dim, hidden_dim, n_layers, \n",
    "                            dropout=drop_prob, batch_first=True)\n",
    "        \n",
    "        # dropout layer\n",
    "        self.dropout = nn.Dropout(0.3)\n",
    "        \n",
    "        # linear and sigmoid layers\n",
    "        self.fc = nn.Linear(hidden_dim, output_size)\n",
    "        self.softmax = nn.LogSoftmax(dim=1)\n",
    "        \n",
    "\n",
    "    def forward(self, x, hidden, author):\n",
    "        \"\"\"\n",
    "        Perform a forward pass of our model on some input and hidden state.\n",
    "        \"\"\"\n",
    "        # embeddings and lstm_out\n",
    "        batch_size = x.size(0)\n",
    "        \n",
    "        # embeddings and lstm_out\n",
    "        x = x.long()\n",
    "        embeds = self.embedding(x)\n",
    "        author_embedded = self.embedding_author\n",
    "       \n",
    "        lstm_out, hidden = self.lstm(embeds, hidden)\n",
    "        # stack up lstm outputs\n",
    "        lstm_out = lstm_out.contiguous().view(-1, self.hidden_dim)\n",
    "       \n",
    "        # dropout and fully-connected layer\n",
    "        out = self.dropout(lstm_out)\n",
    "        out = self.fc(out)\n",
    "        \n",
    "        # sigmoid function\n",
    "        softmax_out = self.softmax(out)\n",
    "        # reshape to be batch_size first\n",
    "        softmax_out = softmax_out.view(batch_size, seq_length, -1)\n",
    "        softmax_out = softmax_out[:, -1] # get last batch of labels\n",
    "\n",
    "        # return last sigmoid output and hidden state\n",
    "        return softmax_out, hidden\n",
    "    \n",
    "    \n",
    "    def init_hidden(self, batch_size):\n",
    "        ''' Initializes hidden state '''\n",
    "        # Create two new tensors with sizes n_layers x batch_size x hidden_dim,\n",
    "        # initialized to zero, for hidden state and cell state of LSTM\n",
    "        weight = next(self.parameters()).data\n",
    "        \n",
    "        if (train_on_gpu):\n",
    "            hidden = (weight.new(self.n_layers, batch_size, self.hidden_dim).zero_().cuda(),\n",
    "                  weight.new(self.n_layers, batch_size, self.hidden_dim).zero_().cuda())\n",
    "        else:\n",
    "            hidden = (weight.new(self.n_layers, batch_size, self.hidden_dim).zero_(),\n",
    "                      weight.new(self.n_layers, batch_size, self.hidden_dim).zero_())\n",
    "        \n",
    "        return hidden\n",
    "        "
   ]
  },
  {
   "cell_type": "markdown",
   "metadata": {},
   "source": [
    "## Instantiate the network\n",
    "\n",
    "Here, we'll instantiate the network. First up, defining the hyperparameters.\n",
    "\n",
    "* `vocab_size`: Size of our vocabulary or the range of values for our input, word tokens.\n",
    "* `output_size`: Size of our desired output; the number of class scores we want to output (pos/neg).\n",
    "* `embedding_dim`: Number of columns in the embedding lookup table; size of our embeddings.\n",
    "* `hidden_dim`: Number of units in the hidden layers of our LSTM cells. Usually larger is better performance wise. Common values are 128, 256, 512, etc.\n",
    "* `n_layers`: Number of LSTM layers in the network. Typically between 1-3\n",
    "\n",
    "> **Exercise:** Define the model  hyperparameters.\n"
   ]
  },
  {
   "cell_type": "code",
   "execution_count": 122,
   "metadata": {},
   "outputs": [
    {
     "name": "stdout",
     "output_type": "stream",
     "text": [
      "SentimentRNN(\n",
      "  (embedding): Embedding(53748, 300)\n",
      "  (embedding_author): Embedding(33863, 256)\n",
      "  (lstm): LSTM(300, 256, num_layers=2, batch_first=True, dropout=0.5)\n",
      "  (dropout): Dropout(p=0.3, inplace=False)\n",
      "  (fc): Linear(in_features=256, out_features=13, bias=True)\n",
      "  (softmax): LogSoftmax()\n",
      ")\n"
     ]
    }
   ],
   "source": [
    "# Instantiate the model w/ hyperparams\n",
    "vocab_size = len(vocab_to_int)+1 # +1 for the 0 padding + our word tokens\n",
    "output_size = 13\n",
    "embedding_dim = 300\n",
    "hidden_dim = 256\n",
    "n_layers = 2\n",
    "\n",
    "net = SentimentRNN(vocab_size, output_size, embedding_dim, hidden_dim, n_layers)\n",
    "\n",
    "print(net)"
   ]
  },
  {
   "cell_type": "markdown",
   "metadata": {},
   "source": [
    "---\n",
    "## Training\n",
    "\n",
    "Below is the typical training code. If you want to do this yourself, feel free to delete all this code and implement it yourself. You can also add code to save a model by name.\n",
    "\n",
    ">We'll also be using a new kind of cross entropy loss, which is designed to work with a single Sigmoid output. [BCELoss](https://pytorch.org/docs/stable/nn.html#bceloss), or **Binary Cross Entropy Loss**, applies cross entropy loss to a single value between 0 and 1.\n",
    "\n",
    "We also have some data and training hyparameters:\n",
    "\n",
    "* `lr`: Learning rate for our optimizer.\n",
    "* `epochs`: Number of times to iterate through the training dataset.\n",
    "* `clip`: The maximum gradient value to clip at (to prevent exploding gradients)."
   ]
  },
  {
   "cell_type": "code",
   "execution_count": 123,
   "metadata": {},
   "outputs": [],
   "source": [
    "# loss and optimization functions\n",
    "lr=0.0001\n",
    "\n",
    "criterion = nn.CrossEntropyLoss()\n",
    "optimizer = torch.optim.Adam(net.parameters(), lr=lr)\n"
   ]
  },
  {
   "cell_type": "code",
   "execution_count": 124,
   "metadata": {},
   "outputs": [
    {
     "name": "stdout",
     "output_type": "stream",
     "text": [
      "Epoch: 1/20... Step: 100... Loss: 2.214861... Val Loss: 2.326002\n",
      "Epoch: 1/20... Step: 200... Loss: 2.181882... Val Loss: 2.257177\n",
      "Epoch: 1/20... Step: 300... Loss: 2.074202... Val Loss: 2.302238\n",
      "Epoch: 1/20... Step: 400... Loss: 2.102653... Val Loss: 2.308993\n",
      "Epoch: 1/20... Step: 500... Loss: 1.870156... Val Loss: 2.278091\n",
      "Epoch: 1/20... Step: 600... Loss: 2.204471... Val Loss: 2.295660\n",
      "Epoch: 2/20... Step: 700... Loss: 2.114736... Val Loss: 2.238973\n",
      "Epoch: 2/20... Step: 800... Loss: 1.943630... Val Loss: 2.144905\n",
      "Epoch: 2/20... Step: 900... Loss: 2.051451... Val Loss: 2.218811\n",
      "Epoch: 2/20... Step: 1000... Loss: 2.250244... Val Loss: 2.184732\n",
      "Epoch: 2/20... Step: 1100... Loss: 2.318135... Val Loss: 2.085686\n",
      "Epoch: 2/20... Step: 1200... Loss: 1.943498... Val Loss: 2.051042\n",
      "Epoch: 3/20... Step: 1300... Loss: 1.900493... Val Loss: 2.077845\n",
      "Epoch: 3/20... Step: 1400... Loss: 1.954437... Val Loss: 2.032378\n",
      "Epoch: 3/20... Step: 1500... Loss: 1.853662... Val Loss: 2.086867\n",
      "Epoch: 3/20... Step: 1600... Loss: 2.028340... Val Loss: 2.041458\n",
      "Epoch: 3/20... Step: 1700... Loss: 1.888977... Val Loss: 2.005878\n",
      "Epoch: 3/20... Step: 1800... Loss: 1.745316... Val Loss: 1.975990\n",
      "Epoch: 3/20... Step: 1900... Loss: 1.841877... Val Loss: 1.996044\n",
      "Epoch: 4/20... Step: 2000... Loss: 1.750028... Val Loss: 1.990867\n",
      "Epoch: 4/20... Step: 2100... Loss: 1.881387... Val Loss: 1.958254\n",
      "Epoch: 4/20... Step: 2200... Loss: 1.954466... Val Loss: 2.021972\n",
      "Epoch: 4/20... Step: 2300... Loss: 1.845694... Val Loss: 2.000066\n",
      "Epoch: 4/20... Step: 2400... Loss: 1.849555... Val Loss: 1.957444\n",
      "Epoch: 4/20... Step: 2500... Loss: 2.124904... Val Loss: 2.012284\n",
      "Epoch: 5/20... Step: 2600... Loss: 1.881246... Val Loss: 1.941609\n",
      "Epoch: 5/20... Step: 2700... Loss: 1.914200... Val Loss: 2.051645\n",
      "Epoch: 5/20... Step: 2800... Loss: 1.773407... Val Loss: 1.969691\n",
      "Epoch: 5/20... Step: 2900... Loss: 1.886873... Val Loss: 1.934984\n",
      "Epoch: 5/20... Step: 3000... Loss: 1.950179... Val Loss: 1.994580\n",
      "Epoch: 5/20... Step: 3100... Loss: 1.605945... Val Loss: 1.933236\n",
      "Epoch: 5/20... Step: 3200... Loss: 1.947963... Val Loss: 1.999558\n",
      "Epoch: 6/20... Step: 3300... Loss: 1.973706... Val Loss: 1.968344\n",
      "Epoch: 6/20... Step: 3400... Loss: 1.648056... Val Loss: 1.959061\n",
      "Epoch: 6/20... Step: 3500... Loss: 1.744744... Val Loss: 1.952921\n",
      "Epoch: 6/20... Step: 3600... Loss: 1.469168... Val Loss: 1.985561\n",
      "Epoch: 6/20... Step: 3700... Loss: 1.564875... Val Loss: 1.973572\n",
      "Epoch: 6/20... Step: 3800... Loss: 2.100123... Val Loss: 2.023196\n",
      "Epoch: 7/20... Step: 3900... Loss: 1.776405... Val Loss: 1.947936\n",
      "Epoch: 7/20... Step: 4000... Loss: 1.570802... Val Loss: 1.993702\n",
      "Epoch: 7/20... Step: 4100... Loss: 1.737074... Val Loss: 1.980073\n",
      "Epoch: 7/20... Step: 4200... Loss: 1.661693... Val Loss: 1.969232\n",
      "Epoch: 7/20... Step: 4300... Loss: 1.594002... Val Loss: 2.006494\n",
      "Epoch: 7/20... Step: 4400... Loss: 1.490023... Val Loss: 1.982963\n",
      "Epoch: 8/20... Step: 4500... Loss: 1.581644... Val Loss: 1.985787\n",
      "Epoch: 8/20... Step: 4600... Loss: 1.675526... Val Loss: 2.001945\n",
      "Epoch: 8/20... Step: 4700... Loss: 1.407188... Val Loss: 2.017249\n",
      "Epoch: 8/20... Step: 4800... Loss: 1.622566... Val Loss: 1.983976\n",
      "Epoch: 8/20... Step: 4900... Loss: 1.797799... Val Loss: 2.002539\n",
      "Epoch: 8/20... Step: 5000... Loss: 1.778498... Val Loss: 2.028721\n",
      "Epoch: 8/20... Step: 5100... Loss: 1.676175... Val Loss: 1.991659\n",
      "Epoch: 9/20... Step: 5200... Loss: 1.461443... Val Loss: 2.017782\n",
      "Epoch: 9/20... Step: 5300... Loss: 1.726007... Val Loss: 2.014928\n",
      "Epoch: 9/20... Step: 5400... Loss: 1.513019... Val Loss: 2.039730\n",
      "Epoch: 9/20... Step: 5500... Loss: 1.683744... Val Loss: 2.055075\n",
      "Epoch: 9/20... Step: 5600... Loss: 1.442573... Val Loss: 2.018085\n",
      "Epoch: 9/20... Step: 5700... Loss: 1.941208... Val Loss: 2.063526\n",
      "Epoch: 10/20... Step: 5800... Loss: 1.580331... Val Loss: 2.052110\n",
      "Epoch: 10/20... Step: 5900... Loss: 1.379294... Val Loss: 2.073204\n",
      "Epoch: 10/20... Step: 6000... Loss: 1.223353... Val Loss: 2.080660\n",
      "Epoch: 10/20... Step: 6100... Loss: 1.638362... Val Loss: 2.094775\n",
      "Epoch: 10/20... Step: 6200... Loss: 1.461838... Val Loss: 2.087012\n",
      "Epoch: 10/20... Step: 6300... Loss: 1.679394... Val Loss: 2.156624\n",
      "Epoch: 10/20... Step: 6400... Loss: 1.443521... Val Loss: 2.118302\n",
      "Epoch: 11/20... Step: 6500... Loss: 1.709886... Val Loss: 2.167178\n",
      "Epoch: 11/20... Step: 6600... Loss: 1.718777... Val Loss: 2.219077\n",
      "Epoch: 11/20... Step: 6700... Loss: 1.436285... Val Loss: 2.175105\n",
      "Epoch: 11/20... Step: 6800... Loss: 1.411629... Val Loss: 2.193581\n",
      "Epoch: 11/20... Step: 6900... Loss: 1.369146... Val Loss: 2.111569\n",
      "Epoch: 11/20... Step: 7000... Loss: 1.325110... Val Loss: 2.144750\n",
      "Epoch: 12/20... Step: 7100... Loss: 1.376060... Val Loss: 2.236814\n",
      "Epoch: 12/20... Step: 7200... Loss: 1.366519... Val Loss: 2.233795\n",
      "Epoch: 12/20... Step: 7300... Loss: 1.452237... Val Loss: 2.234909\n",
      "Epoch: 12/20... Step: 7400... Loss: 1.374606... Val Loss: 2.202247\n",
      "Epoch: 12/20... Step: 7500... Loss: 1.258536... Val Loss: 2.199457\n",
      "Epoch: 12/20... Step: 7600... Loss: 1.462801... Val Loss: 2.218859\n",
      "Epoch: 13/20... Step: 7700... Loss: 1.233811... Val Loss: 2.357161\n",
      "Epoch: 13/20... Step: 7800... Loss: 1.308950... Val Loss: 2.344241\n",
      "Epoch: 13/20... Step: 7900... Loss: 1.068986... Val Loss: 2.284486\n",
      "Epoch: 13/20... Step: 8000... Loss: 1.803317... Val Loss: 2.328946\n",
      "Epoch: 13/20... Step: 8100... Loss: 1.446492... Val Loss: 2.350329\n",
      "Epoch: 13/20... Step: 8200... Loss: 0.975604... Val Loss: 2.332385\n",
      "Epoch: 13/20... Step: 8300... Loss: 1.352225... Val Loss: 2.362905\n",
      "Epoch: 14/20... Step: 8400... Loss: 0.990344... Val Loss: 2.427789\n",
      "Epoch: 14/20... Step: 8500... Loss: 1.303393... Val Loss: 2.420514\n",
      "Epoch: 14/20... Step: 8600... Loss: 1.103087... Val Loss: 2.440229\n",
      "Epoch: 14/20... Step: 8700... Loss: 1.135716... Val Loss: 2.464313\n",
      "Epoch: 14/20... Step: 8800... Loss: 1.455008... Val Loss: 2.443241\n",
      "Epoch: 14/20... Step: 8900... Loss: 1.248762... Val Loss: 2.469524\n",
      "Epoch: 15/20... Step: 9000... Loss: 1.080812... Val Loss: 2.608206\n",
      "Epoch: 15/20... Step: 9100... Loss: 1.308987... Val Loss: 2.538021\n",
      "Epoch: 15/20... Step: 9200... Loss: 1.104929... Val Loss: 2.539831\n",
      "Epoch: 15/20... Step: 9300... Loss: 1.151329... Val Loss: 2.534615\n",
      "Epoch: 15/20... Step: 9400... Loss: 0.976354... Val Loss: 2.413693\n",
      "Epoch: 15/20... Step: 9500... Loss: 1.136566... Val Loss: 2.621267\n",
      "Epoch: 15/20... Step: 9600... Loss: 1.000080... Val Loss: 2.522626\n",
      "Epoch: 16/20... Step: 9700... Loss: 0.905914... Val Loss: 2.648768\n",
      "Epoch: 16/20... Step: 9800... Loss: 0.960523... Val Loss: 2.579181\n",
      "Epoch: 16/20... Step: 9900... Loss: 0.957977... Val Loss: 2.671263\n",
      "Epoch: 16/20... Step: 10000... Loss: 1.416837... Val Loss: 2.587854\n",
      "Epoch: 16/20... Step: 10100... Loss: 1.191426... Val Loss: 2.729733\n",
      "Epoch: 16/20... Step: 10200... Loss: 1.356837... Val Loss: 2.671950\n",
      "Epoch: 17/20... Step: 10300... Loss: 1.079512... Val Loss: 2.675130\n",
      "Epoch: 17/20... Step: 10400... Loss: 1.026091... Val Loss: 2.795507\n",
      "Epoch: 17/20... Step: 10500... Loss: 0.798014... Val Loss: 2.628874\n",
      "Epoch: 17/20... Step: 10600... Loss: 0.958457... Val Loss: 2.784960\n",
      "Epoch: 17/20... Step: 10700... Loss: 1.114917... Val Loss: 2.750266\n",
      "Epoch: 17/20... Step: 10800... Loss: 1.287917... Val Loss: 2.840748\n",
      "Epoch: 18/20... Step: 10900... Loss: 1.538903... Val Loss: 2.818945\n",
      "Epoch: 18/20... Step: 11000... Loss: 0.895307... Val Loss: 2.887617\n",
      "Epoch: 18/20... Step: 11100... Loss: 1.051548... Val Loss: 3.017760\n",
      "Epoch: 18/20... Step: 11200... Loss: 0.896496... Val Loss: 2.928986\n",
      "Epoch: 18/20... Step: 11300... Loss: 0.749507... Val Loss: 2.906087\n",
      "Epoch: 18/20... Step: 11400... Loss: 1.231688... Val Loss: 2.898821\n",
      "Epoch: 18/20... Step: 11500... Loss: 1.062423... Val Loss: 2.871195\n",
      "Epoch: 19/20... Step: 11600... Loss: 0.934892... Val Loss: 3.030855\n",
      "Epoch: 19/20... Step: 11700... Loss: 1.147158... Val Loss: 2.993722\n",
      "Epoch: 19/20... Step: 11800... Loss: 0.977496... Val Loss: 3.086305\n",
      "Epoch: 19/20... Step: 11900... Loss: 0.922336... Val Loss: 3.061777\n",
      "Epoch: 19/20... Step: 12000... Loss: 0.766367... Val Loss: 2.967041\n",
      "Epoch: 19/20... Step: 12100... Loss: 0.725720... Val Loss: 3.045219\n",
      "Epoch: 20/20... Step: 12200... Loss: 0.754936... Val Loss: 3.110142\n",
      "Epoch: 20/20... Step: 12300... Loss: 0.698349... Val Loss: 3.149187\n"
     ]
    },
    {
     "name": "stdout",
     "output_type": "stream",
     "text": [
      "Epoch: 20/20... Step: 12400... Loss: 1.139359... Val Loss: 3.122081\n",
      "Epoch: 20/20... Step: 12500... Loss: 1.100355... Val Loss: 3.040482\n",
      "Epoch: 20/20... Step: 12600... Loss: 0.731594... Val Loss: 3.085562\n",
      "Epoch: 20/20... Step: 12700... Loss: 0.880889... Val Loss: 3.150607\n",
      "Epoch: 20/20... Step: 12800... Loss: 0.707717... Val Loss: 3.142941\n"
     ]
    }
   ],
   "source": [
    "# training params\n",
    "\n",
    "epochs = 20 # 3-4 is approx where I noticed the validation loss stop decreasing\n",
    "\n",
    "counter = 0\n",
    "print_every = 100\n",
    "clip=5 # gradient clipping\n",
    "\n",
    "# move model to GPU, if available\n",
    "if(train_on_gpu):\n",
    "    net.cuda()\n",
    "\n",
    "net.train()\n",
    "# train for some number of epochs\n",
    "for e in range(epochs):\n",
    "    # initialize hidden state\n",
    "    h = net.init_hidden(batch_size)\n",
    "\n",
    "    # batch loop\n",
    "    for inputs, labels, authors in train_loader:\n",
    "        counter += 1\n",
    "\n",
    "        if(train_on_gpu):\n",
    "            inputs, labels, authors = inputs.cuda(), labels.cuda(), authors.cuda()\n",
    "\n",
    "        # Creating new variables for the hidden state, otherwise\n",
    "        # we'd backprop through the entire training history\n",
    "        h = tuple([each.data for each in h])\n",
    "\n",
    "        # zero accumulated gradients\n",
    "        net.zero_grad()\n",
    "\n",
    "        # get the output from the model\n",
    "        output, h = net(inputs, h, authors)\n",
    "\n",
    "        # calculate the loss and perform backprop\n",
    "        loss = criterion(output.squeeze(), labels)\n",
    "        loss.backward()\n",
    "        # `clip_grad_norm` helps prevent the exploding gradient problem in RNNs / LSTMs.\n",
    "        nn.utils.clip_grad_norm_(net.parameters(), clip)\n",
    "        optimizer.step()\n",
    "\n",
    "        # loss stats\n",
    "        if counter % print_every == 0:\n",
    "            # Get validation loss\n",
    "            val_h = net.init_hidden(batch_size)\n",
    "            val_losses = []\n",
    "            net.eval()\n",
    "            for inputs, labels, authors in valid_loader:\n",
    "\n",
    "                # Creating new variables for the hidden state, otherwise\n",
    "                # we'd backprop through the entire training history\n",
    "                val_h = tuple([each.data for each in val_h])\n",
    "\n",
    "                if(train_on_gpu):\n",
    "                    inputs, labels, authors = inputs.cuda(), labels.cuda(), authors.cuda()\n",
    "\n",
    "                output, val_h = net(inputs, val_h, authors)\n",
    "                val_loss = criterion(output.squeeze(), labels)\n",
    "\n",
    "                val_losses.append(val_loss.item())\n",
    "\n",
    "            net.train()\n",
    "            print(\"Epoch: {}/{}...\".format(e+1, epochs),\n",
    "                  \"Step: {}...\".format(counter),\n",
    "                  \"Loss: {:.6f}...\".format(loss.item()),\n",
    "                  \"Val Loss: {:.6f}\".format(np.mean(val_losses)))"
   ]
  },
  {
   "cell_type": "markdown",
   "metadata": {},
   "source": [
    "---\n",
    "## Testing\n",
    "\n",
    "There are a few ways to test your network.\n",
    "\n",
    "* **Test data performance:** First, we'll see how our trained model performs on all of our defined test_data, above. We'll calculate the average loss and accuracy over the test data.\n",
    "\n",
    "* **Inference on user-generated data:** Second, we'll see if we can input just one example review at a time (without a label), and see what the trained model predicts. Looking at new, user input data like this, and predicting an output label, is called **inference**."
   ]
  },
  {
   "cell_type": "code",
   "execution_count": 144,
   "metadata": {},
   "outputs": [
    {
     "ename": "RuntimeError",
     "evalue": "shape '[50, 35, -1]' is invalid for input of size 16250",
     "output_type": "error",
     "traceback": [
      "\u001b[0;31m---------------------------------------------------------------------------\u001b[0m",
      "\u001b[0;31mRuntimeError\u001b[0m                              Traceback (most recent call last)",
      "\u001b[0;32m<ipython-input-144-58255b824e0a>\u001b[0m in \u001b[0;36m<module>\u001b[0;34m\u001b[0m\n\u001b[1;32m     19\u001b[0m \u001b[0;34m\u001b[0m\u001b[0m\n\u001b[1;32m     20\u001b[0m     \u001b[0;31m# get predicted outputs\u001b[0m\u001b[0;34m\u001b[0m\u001b[0;34m\u001b[0m\u001b[0;34m\u001b[0m\u001b[0m\n\u001b[0;32m---> 21\u001b[0;31m     \u001b[0moutput\u001b[0m\u001b[0;34m,\u001b[0m \u001b[0mh\u001b[0m \u001b[0;34m=\u001b[0m \u001b[0mnet\u001b[0m\u001b[0;34m(\u001b[0m\u001b[0minputs\u001b[0m\u001b[0;34m,\u001b[0m \u001b[0mh\u001b[0m\u001b[0;34m,\u001b[0m \u001b[0mauthors\u001b[0m\u001b[0;34m)\u001b[0m\u001b[0;34m\u001b[0m\u001b[0;34m\u001b[0m\u001b[0m\n\u001b[0m\u001b[1;32m     22\u001b[0m \u001b[0;34m\u001b[0m\u001b[0m\n\u001b[1;32m     23\u001b[0m     \u001b[0;31m# calculate loss\u001b[0m\u001b[0;34m\u001b[0m\u001b[0;34m\u001b[0m\u001b[0;34m\u001b[0m\u001b[0m\n",
      "\u001b[0;32m~/anaconda3/envs/pytorch/lib/python3.8/site-packages/torch/nn/modules/module.py\u001b[0m in \u001b[0;36m__call__\u001b[0;34m(self, *input, **kwargs)\u001b[0m\n\u001b[1;32m    548\u001b[0m             \u001b[0mresult\u001b[0m \u001b[0;34m=\u001b[0m \u001b[0mself\u001b[0m\u001b[0;34m.\u001b[0m\u001b[0m_slow_forward\u001b[0m\u001b[0;34m(\u001b[0m\u001b[0;34m*\u001b[0m\u001b[0minput\u001b[0m\u001b[0;34m,\u001b[0m \u001b[0;34m**\u001b[0m\u001b[0mkwargs\u001b[0m\u001b[0;34m)\u001b[0m\u001b[0;34m\u001b[0m\u001b[0;34m\u001b[0m\u001b[0m\n\u001b[1;32m    549\u001b[0m         \u001b[0;32melse\u001b[0m\u001b[0;34m:\u001b[0m\u001b[0;34m\u001b[0m\u001b[0;34m\u001b[0m\u001b[0m\n\u001b[0;32m--> 550\u001b[0;31m             \u001b[0mresult\u001b[0m \u001b[0;34m=\u001b[0m \u001b[0mself\u001b[0m\u001b[0;34m.\u001b[0m\u001b[0mforward\u001b[0m\u001b[0;34m(\u001b[0m\u001b[0;34m*\u001b[0m\u001b[0minput\u001b[0m\u001b[0;34m,\u001b[0m \u001b[0;34m**\u001b[0m\u001b[0mkwargs\u001b[0m\u001b[0;34m)\u001b[0m\u001b[0;34m\u001b[0m\u001b[0;34m\u001b[0m\u001b[0m\n\u001b[0m\u001b[1;32m    551\u001b[0m         \u001b[0;32mfor\u001b[0m \u001b[0mhook\u001b[0m \u001b[0;32min\u001b[0m \u001b[0mself\u001b[0m\u001b[0;34m.\u001b[0m\u001b[0m_forward_hooks\u001b[0m\u001b[0;34m.\u001b[0m\u001b[0mvalues\u001b[0m\u001b[0;34m(\u001b[0m\u001b[0;34m)\u001b[0m\u001b[0;34m:\u001b[0m\u001b[0;34m\u001b[0m\u001b[0;34m\u001b[0m\u001b[0m\n\u001b[1;32m    552\u001b[0m             \u001b[0mhook_result\u001b[0m \u001b[0;34m=\u001b[0m \u001b[0mhook\u001b[0m\u001b[0;34m(\u001b[0m\u001b[0mself\u001b[0m\u001b[0;34m,\u001b[0m \u001b[0minput\u001b[0m\u001b[0;34m,\u001b[0m \u001b[0mresult\u001b[0m\u001b[0;34m)\u001b[0m\u001b[0;34m\u001b[0m\u001b[0;34m\u001b[0m\u001b[0m\n",
      "\u001b[0;32m<ipython-input-121-63cd964576ee>\u001b[0m in \u001b[0;36mforward\u001b[0;34m(self, x, hidden, author)\u001b[0m\n\u001b[1;32m     55\u001b[0m         \u001b[0msoftmax_out\u001b[0m \u001b[0;34m=\u001b[0m \u001b[0mself\u001b[0m\u001b[0;34m.\u001b[0m\u001b[0msoftmax\u001b[0m\u001b[0;34m(\u001b[0m\u001b[0mout\u001b[0m\u001b[0;34m)\u001b[0m\u001b[0;34m\u001b[0m\u001b[0;34m\u001b[0m\u001b[0m\n\u001b[1;32m     56\u001b[0m         \u001b[0;31m# reshape to be batch_size first\u001b[0m\u001b[0;34m\u001b[0m\u001b[0;34m\u001b[0m\u001b[0;34m\u001b[0m\u001b[0m\n\u001b[0;32m---> 57\u001b[0;31m         \u001b[0msoftmax_out\u001b[0m \u001b[0;34m=\u001b[0m \u001b[0msoftmax_out\u001b[0m\u001b[0;34m.\u001b[0m\u001b[0mview\u001b[0m\u001b[0;34m(\u001b[0m\u001b[0mbatch_size\u001b[0m\u001b[0;34m,\u001b[0m \u001b[0mseq_length\u001b[0m\u001b[0;34m,\u001b[0m \u001b[0;34m-\u001b[0m\u001b[0;36m1\u001b[0m\u001b[0;34m)\u001b[0m\u001b[0;34m\u001b[0m\u001b[0;34m\u001b[0m\u001b[0m\n\u001b[0m\u001b[1;32m     58\u001b[0m         \u001b[0msoftmax_out\u001b[0m \u001b[0;34m=\u001b[0m \u001b[0msoftmax_out\u001b[0m\u001b[0;34m[\u001b[0m\u001b[0;34m:\u001b[0m\u001b[0;34m,\u001b[0m \u001b[0;34m-\u001b[0m\u001b[0;36m1\u001b[0m\u001b[0;34m]\u001b[0m \u001b[0;31m# get last batch of labels\u001b[0m\u001b[0;34m\u001b[0m\u001b[0;34m\u001b[0m\u001b[0m\n\u001b[1;32m     59\u001b[0m \u001b[0;34m\u001b[0m\u001b[0m\n",
      "\u001b[0;31mRuntimeError\u001b[0m: shape '[50, 35, -1]' is invalid for input of size 16250"
     ]
    }
   ],
   "source": [
    "# Get test data loss and accuracy\n",
    "\n",
    "test_losses = [] # track loss\n",
    "num_correct = 0\n",
    "\n",
    "# init hidden state\n",
    "h = net.init_hidden(batch_size)\n",
    "\n",
    "net.eval()\n",
    "# iterate over test data\n",
    "for inputs, labels, authors in test_loader:\n",
    "\n",
    "    # Creating new variables for the hidden state, otherwise\n",
    "    # we'd backprop through the entire training history\n",
    "    h = tuple([each.data for each in h])\n",
    "\n",
    "    if(train_on_gpu):\n",
    "        inputs, labels, authors = inputs.cuda(), labels.cuda(), authors.cuda()\n",
    "    \n",
    "    # get predicted outputs\n",
    "    output, h = net(inputs, h, authors)\n",
    "    \n",
    "    # calculate loss\n",
    "    test_loss = criterion(output.squeeze(), labels)\n",
    "    test_losses.append(test_loss.item())\n",
    "    \n",
    "    # convert output probabilities to predicted class (0 or 1)\n",
    "    predicted, idx = torch.topk(output, 1)\n",
    "\n",
    "    # compare predictions to true label\n",
    "    correct_tensor = idx.eq(labels.view_as(idx))\n",
    "    correct = np.squeeze(correct_tensor.numpy()) if not train_on_gpu else np.squeeze(correct_tensor.cpu().numpy())\n",
    "    num_correct += np.sum(correct)\n",
    "\n",
    "\n",
    "# -- stats! -- ##\n",
    "# avg test loss\n",
    "print(\"Test loss: {:.3f}\".format(np.mean(test_losses)))\n",
    "\n",
    "# accuracy over all test data\n",
    "test_acc = num_correct/len(test_loader.dataset)\n",
    "print(\"Test accuracy: {:.3f}\".format(test_acc))"
   ]
  },
  {
   "cell_type": "markdown",
   "metadata": {},
   "source": [
    "### Inference on a test review\n",
    "\n",
    "You can change this test_review to any text that you want. Read it and think: is it pos or neg? Then see if your model predicts correctly!\n",
    "    \n",
    "> **Exercise:** Write a `predict` function that takes in a trained net, a plain text_review, and a sequence length, and prints out a custom statement for a positive or negative review!\n",
    "* You can use any functions that you've already defined or define any helper functions you want to complete `predict`, but it should just take in a trained net, a text review, and a sequence length.\n"
   ]
  },
  {
   "cell_type": "code",
   "execution_count": 126,
   "metadata": {},
   "outputs": [],
   "source": [
    "# negative test review\n",
    "test_review_neg = 'The worst movie I have seen; acting was terrible and I want my money back. This movie had bad acting and the dialogue was slow.'\n"
   ]
  },
  {
   "cell_type": "code",
   "execution_count": 127,
   "metadata": {},
   "outputs": [
    {
     "name": "stdout",
     "output_type": "stream",
     "text": [
      "[[3, 805, 201, 1, 16, 409, 2217, 26, 1300, 6, 1, 76, 5, 358, 55, 30, 201, 64, 118, 2217, 6, 3, 43882, 26, 753]]\n"
     ]
    }
   ],
   "source": [
    "from string import punctuation\n",
    "\n",
    "def tokenize_review(test_review):\n",
    "    test_review = test_review.lower() # lowercase\n",
    "    # get rid of punctuation\n",
    "    test_text = ''.join([c for c in test_review if c not in punctuation])\n",
    "\n",
    "    # splitting by spaces\n",
    "    test_words = test_text.split()\n",
    "\n",
    "    # tokens\n",
    "    test_ints = []\n",
    "    test_ints.append([vocab_to_int[word] for word in test_words])\n",
    "\n",
    "    return test_ints\n",
    "\n",
    "# test code and generate tokenized review\n",
    "test_ints = tokenize_review(test_review_neg)\n",
    "print(test_ints)"
   ]
  },
  {
   "cell_type": "code",
   "execution_count": 128,
   "metadata": {},
   "outputs": [
    {
     "name": "stdout",
     "output_type": "stream",
     "text": [
      "[[    0     0     0     0     0     0     0     0     0     0     3   805\n",
      "    201     1    16   409  2217    26  1300     6     1    76     5   358\n",
      "     55    30   201    64   118  2217     6     3 43882    26   753]]\n"
     ]
    }
   ],
   "source": [
    "# test sequence padding\n",
    "seq_length=35\n",
    "features = pad_features(test_ints, seq_length)\n",
    "\n",
    "print(features)"
   ]
  },
  {
   "cell_type": "code",
   "execution_count": 129,
   "metadata": {},
   "outputs": [
    {
     "name": "stdout",
     "output_type": "stream",
     "text": [
      "torch.Size([1, 35])\n"
     ]
    }
   ],
   "source": [
    "# test conversion to tensor and pass into your model\n",
    "feature_tensor = torch.from_numpy(features)\n",
    "print(feature_tensor.size())"
   ]
  },
  {
   "cell_type": "code",
   "execution_count": 130,
   "metadata": {},
   "outputs": [],
   "source": [
    "def predict(net, test_review, author, sequence_length=200):\n",
    "    \n",
    "    net.eval()\n",
    "    \n",
    "    # tokenize review\n",
    "    test_ints = tokenize_review(test_review)\n",
    "    test_auth = vocab_to_int_auth[author]\n",
    "    \n",
    "    # pad tokenized sequence\n",
    "    seq_length=sequence_length\n",
    "    features = pad_features(test_ints, seq_length)\n",
    "    \n",
    "    # convert to tensor to pass into your model\n",
    "    feature_tensor = torch.from_numpy(features)\n",
    "    #author_tensor = torch.from_numpy(test_auth)\n",
    "    \n",
    "    batch_size = feature_tensor.size(0)\n",
    "    \n",
    "    # initialize hidden state\n",
    "    h = net.init_hidden(batch_size)\n",
    "    \n",
    "    if(train_on_gpu):\n",
    "        feature_tensor = feature_tensor.cuda()\n",
    "        #author_tensor = author_tensor.cuda()\n",
    "    \n",
    "    # get the output from the model\n",
    "    output, h = net(feature_tensor, h, test_auth)\n",
    "    \n",
    "    # convert output probabilities to predicted class (0 or 1)\n",
    "    pred = torch.round(output.squeeze()) \n",
    "    # printing output value, before rounding\n",
    "    val, idx = torch.topk(output, 1)\n",
    "    \n",
    "    idx = idx.cpu().numpy()[0][0]\n",
    "\n",
    "    print('Prediction: {} '.format(int_to_label[idx]))\n",
    "    print(\"Prediction value: {:.6f}\".format(val.detach().cpu().numpy()[0][0]))\n",
    "        "
   ]
  },
  {
   "cell_type": "code",
   "execution_count": 142,
   "metadata": {},
   "outputs": [],
   "source": [
    "# positive test review\n",
    "test_review_pos = \"hello there\"\n",
    "author = \"tiffanylue\""
   ]
  },
  {
   "cell_type": "code",
   "execution_count": 143,
   "metadata": {},
   "outputs": [
    {
     "name": "stdout",
     "output_type": "stream",
     "text": [
      "Prediction: neutral \n",
      "Prediction value: -0.143865\n"
     ]
    }
   ],
   "source": [
    "# call function\n",
    "seq_length=35 # good to use the length that was trained on\n",
    "\n",
    "predict(net, test_review_pos, author, seq_length)"
   ]
  },
  {
   "cell_type": "markdown",
   "metadata": {},
   "source": [
    "### Try out test_reviews of your own!\n",
    "\n",
    "Now that you have a trained model and a predict function, you can pass in _any_ kind of text and this model will predict whether the text has a positive or negative sentiment. Push this model to its limits and try to find what words it associates with positive or negative.\n",
    "\n",
    "Later, you'll learn how to deploy a model like this to a production environment so that it can respond to any kind of user data put into a web app!"
   ]
  },
  {
   "cell_type": "code",
   "execution_count": null,
   "metadata": {},
   "outputs": [],
   "source": []
  }
 ],
 "metadata": {
  "kernelspec": {
   "display_name": "pytorch",
   "language": "python",
   "name": "pytorch"
  },
  "language_info": {
   "codemirror_mode": {
    "name": "ipython",
    "version": 3
   },
   "file_extension": ".py",
   "mimetype": "text/x-python",
   "name": "python",
   "nbconvert_exporter": "python",
   "pygments_lexer": "ipython3",
   "version": "3.8.3"
  }
 },
 "nbformat": 4,
 "nbformat_minor": 2
}
