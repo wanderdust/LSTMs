{
 "cells": [
  {
   "cell_type": "markdown",
   "metadata": {},
   "source": [
    "# Sentiment Analysis with an RNN\n",
    "\n",
    "In this notebook, you'll implement a recurrent neural network that performs sentiment analysis. \n",
    ">Using an RNN rather than a strictly feedforward network is more accurate since we can include information about the *sequence* of words. \n",
    "\n",
    "Here we'll use a dataset of movie reviews, accompanied by sentiment labels: positive or negative.\n",
    "\n",
    "<img src=\"assets/reviews_ex.png\" width=40%>\n",
    "\n",
    "### Network Architecture\n",
    "\n",
    "The architecture for this network is shown below.\n",
    "\n",
    "<img src=\"assets/network_diagram.png\" width=40%>\n",
    "\n",
    ">**First, we'll pass in words to an embedding layer.** We need an embedding layer because we have tens of thousands of words, so we'll need a more efficient representation for our input data than one-hot encoded vectors. You should have seen this before from the Word2Vec lesson. You can actually train an embedding with the Skip-gram Word2Vec model and use those embeddings as input, here. However, it's good enough to just have an embedding layer and let the network learn a different embedding table on its own. *In this case, the embedding layer is for dimensionality reduction, rather than for learning semantic representations.*\n",
    "\n",
    ">**After input words are passed to an embedding layer, the new embeddings will be passed to LSTM cells.** The LSTM cells will add *recurrent* connections to the network and give us the ability to include information about the *sequence* of words in the movie review data. \n",
    "\n",
    ">**Finally, the LSTM outputs will go to a sigmoid output layer.** We're using a sigmoid function because positive and negative = 1 and 0, respectively, and a sigmoid will output predicted, sentiment values between 0-1. \n",
    "\n",
    "We don't care about the sigmoid outputs except for the **very last one**; we can ignore the rest. We'll calculate the loss by comparing the output at the last time step and the training label (pos or neg)."
   ]
  },
  {
   "cell_type": "markdown",
   "metadata": {},
   "source": [
    "---\n",
    "### Load in and visualize the data"
   ]
  },
  {
   "cell_type": "code",
   "execution_count": 201,
   "metadata": {},
   "outputs": [],
   "source": [
    "import numpy as np\n",
    "\n",
    "# read data from text files\n",
    "with open('data/tweets_full.txt', 'r') as f:\n",
    "    reviews = f.read()\n",
    "with open('data/tweets_full_target.txt', 'r') as f:\n",
    "    labels = f.read()"
   ]
  },
  {
   "cell_type": "code",
   "execution_count": 202,
   "metadata": {},
   "outputs": [],
   "source": [
    "# read data from text files\n",
    "with open('data/tweets_authors.txt', 'r') as f:\n",
    "    authors = f.read()"
   ]
  },
  {
   "cell_type": "code",
   "execution_count": 203,
   "metadata": {},
   "outputs": [
    {
     "name": "stdout",
     "output_type": "stream",
     "text": [
      "@tiffanylue i know  i was listenin to bad habit earlier and i started freakin at his part =[ \n",
      "Layin n bed with a headache  ughhhh...waitin on your call... \n",
      "Funeral ceremony...gloomy friday... \n",
      "wants to hang out with friends SOON! \n",
      "@dannycastillo We want to trade with someone who has Houston tickets, but no one will. \n",
      "Re-pinging @ghostridah14: why didn't you go to prom? BC my bf didn't like my friends \n",
      "I should be sleep, but im not! thinking about an old friend who I want. but he's married now. damn, &amp; he wants me 2! scandalous! \n",
      "Hmmm. http://www.djhero.com/ is down \n",
      "@charviray Charlene my love. I miss you \n",
      "@kelcouch I'm sorry  at least it's Friday? \n",
      "cant fall asleep \n",
      "Choked on her retainers \n",
      "Ugh! I have to beat this stupid song to get to the next  rude! \n",
      "@BrodyJenner if u watch the hills in london u will realise what tourture it is because were weeks and weeks late  i just watch itonlinelol \n",
      "Got the news \n",
      "The storm is here and the electricity is gone \n",
      "@annarosekerr agreed \n",
      "So sleep\n",
      "\n",
      "empty \n",
      "sadness \n",
      "sadn\n",
      "\n",
      "xoshayzers \n",
      "wannamam\n"
     ]
    }
   ],
   "source": [
    "print(reviews[:1000])\n",
    "print()\n",
    "print(labels[:20])\n",
    "print()\n",
    "print(authors[:20])"
   ]
  },
  {
   "cell_type": "markdown",
   "metadata": {},
   "source": [
    "## Data pre-processing\n",
    "\n",
    "The first step when building a neural network model is getting your data into the proper form to feed into the network. Since we're using embedding layers, we'll need to encode each word with an integer. We'll also want to clean it up a bit.\n",
    "\n",
    "You can see an example of the reviews data above. Here are the processing steps, we'll want to take:\n",
    ">* We'll want to get rid of periods and extraneous punctuation.\n",
    "* Also, you might notice that the reviews are delimited with newline characters `\\n`. To deal with those, I'm going to split the text into each review using `\\n` as the delimiter. \n",
    "* Then I can combined all the reviews back together into one big string.\n",
    "\n",
    "First, let's remove all punctuation. Then get all the text without the newlines and split it into individual words."
   ]
  },
  {
   "cell_type": "code",
   "execution_count": 204,
   "metadata": {},
   "outputs": [],
   "source": [
    "from string import punctuation\n",
    "\n",
    "# get rid of punctuation\n",
    "reviews = reviews.lower() # lowercase, standardize\n",
    "all_text = ''.join([c for c in reviews if c not in punctuation])\n",
    "\n",
    "# split by new lines and spaces\n",
    "reviews_split = all_text.split('\\n')\n",
    "all_text = ' '.join(reviews_split)\n",
    "\n",
    "# create a list of words\n",
    "words = all_text.split()"
   ]
  },
  {
   "cell_type": "code",
   "execution_count": 205,
   "metadata": {},
   "outputs": [
    {
     "data": {
      "text/plain": [
       "['tiffanylue',\n",
       " 'i',\n",
       " 'know',\n",
       " 'i',\n",
       " 'was',\n",
       " 'listenin',\n",
       " 'to',\n",
       " 'bad',\n",
       " 'habit',\n",
       " 'earlier',\n",
       " 'and',\n",
       " 'i',\n",
       " 'started',\n",
       " 'freakin',\n",
       " 'at',\n",
       " 'his',\n",
       " 'part',\n",
       " 'layin',\n",
       " 'n',\n",
       " 'bed',\n",
       " 'with',\n",
       " 'a',\n",
       " 'headache',\n",
       " 'ughhhhwaitin',\n",
       " 'on',\n",
       " 'your',\n",
       " 'call',\n",
       " 'funeral',\n",
       " 'ceremonygloomy',\n",
       " 'friday',\n",
       " 'wants',\n",
       " 'to',\n",
       " 'hang',\n",
       " 'out',\n",
       " 'with',\n",
       " 'friends',\n",
       " 'soon',\n",
       " 'dannycastillo',\n",
       " 'we']"
      ]
     },
     "execution_count": 205,
     "metadata": {},
     "output_type": "execute_result"
    }
   ],
   "source": [
    "words[:39]"
   ]
  },
  {
   "cell_type": "markdown",
   "metadata": {},
   "source": [
    "### Encoding the words\n",
    "\n",
    "The embedding lookup requires that we pass in integers to our network. The easiest way to do this is to create dictionaries that map the words in the vocabulary to integers. Then we can convert each of our reviews into integers so they can be passed into the network.\n",
    "\n",
    "> **Exercise:** Now you're going to encode the words with integers. Build a dictionary that maps words to integers. Later we're going to pad our input vectors with zeros, so make sure the integers **start at 1, not 0**.\n",
    "> Also, convert the reviews to integers and store the reviews in a new list called `reviews_ints`. "
   ]
  },
  {
   "cell_type": "code",
   "execution_count": 206,
   "metadata": {},
   "outputs": [],
   "source": [
    "# feel free to use this import \n",
    "from collections import Counter\n",
    "\n",
    "## Build a dictionary that maps words to integers\n",
    "counts = Counter(words)\n",
    "vocab = sorted(counts, key=counts.get, reverse=True)\n",
    "vocab_to_int = {word: ii for ii, word in enumerate(vocab, 1)}\n",
    "\n",
    "## use the dict to tokenize each review in reviews_split\n",
    "## store the tokenized reviews in reviews_ints\n",
    "reviews_ints = []\n",
    "for review in reviews_split:\n",
    "    reviews_ints.append([vocab_to_int[word] for word in review.split()])\n",
    "    \n",
    "reviews_ints = reviews_ints[:-1] # Remove the empty line at the end"
   ]
  },
  {
   "cell_type": "markdown",
   "metadata": {},
   "source": [
    "**Test your code**\n",
    "\n",
    "As a text that you've implemented the dictionary correctly, print out the number of unique words in your vocabulary and the contents of the first, tokenized review."
   ]
  },
  {
   "cell_type": "code",
   "execution_count": 207,
   "metadata": {},
   "outputs": [
    {
     "name": "stdout",
     "output_type": "stream",
     "text": [
      "Unique words:  53747\n",
      "\n",
      "Tokenized review: \n",
      " [14919, 14884, 1038, 50, 2845, 3, 2598, 6, 1, 16, 99, 1954, 4206, 309, 950, 53745, 53746, 53747]\n"
     ]
    }
   ],
   "source": [
    "# stats about vocabulary\n",
    "print('Unique words: ', len((vocab_to_int)))  # should ~ 74000+\n",
    "print()\n",
    "\n",
    "# print tokens in first review\n",
    "print('Tokenized review: \\n', reviews_ints[-1])"
   ]
  },
  {
   "cell_type": "markdown",
   "metadata": {},
   "source": [
    "### Encoding the labels\n",
    "\n",
    "Our labels are \"positive\" or \"negative\". To use these labels in our network, we need to convert them to 0 and 1.\n"
   ]
  },
  {
   "cell_type": "code",
   "execution_count": 208,
   "metadata": {},
   "outputs": [],
   "source": [
    "# 1=positive, 0=negative label conversion\n",
    "labels_split = labels.split('\\n')\n",
    "labels_split = [label.strip() for label in labels_split]\n",
    "\n",
    "label_names = ['neutral', 'worry', 'happiness', 'sadness', 'love', 'surprise',\n",
    "              'fun', 'relief', 'hate', 'empty', \n",
    "             'enthusiasm', 'boredom', 'anger']\n",
    "\n",
    "label_to_int = {k:i for i, k in enumerate(label_names) }\n",
    "int_to_label = {v: k for k, v in label_to_int.items()}\n",
    "encoded_labels = np.array([label_to_int[label] for label in labels_split[:-1]])\n",
    "\n"
   ]
  },
  {
   "cell_type": "code",
   "execution_count": 209,
   "metadata": {},
   "outputs": [
    {
     "name": "stdout",
     "output_type": "stream",
     "text": [
      "{'neutral': 0, 'worry': 1, 'happiness': 2, 'sadness': 3, 'love': 4, 'surprise': 5, 'fun': 6, 'relief': 7, 'hate': 8, 'empty': 9, 'enthusiasm': 10, 'boredom': 11, 'anger': 12}\n",
      "Len of tweets = 40000\n",
      "Len of labels = 40000\n"
     ]
    }
   ],
   "source": [
    "print(label_to_int)\n",
    "\n",
    "print(\"Len of tweets = {}\".format(len(reviews_ints)))\n",
    "print(\"Len of labels = {}\".format(len(encoded_labels)))"
   ]
  },
  {
   "cell_type": "markdown",
   "metadata": {},
   "source": [
    "### Encode the authors of each tweet"
   ]
  },
  {
   "cell_type": "markdown",
   "metadata": {},
   "source": [
    "**Remove punctuation**"
   ]
  },
  {
   "cell_type": "code",
   "execution_count": 210,
   "metadata": {},
   "outputs": [
    {
     "name": "stdout",
     "output_type": "stream",
     "text": [
      "['xoshayzers ', 'wannamama ', 'coolfunky ', 'czareaquino ', 'xkilljoyx ']\n"
     ]
    }
   ],
   "source": [
    "# get rid of punctuation\n",
    "authors = authors.lower() # lowercase, standardize\n",
    "all_authors_text = ''.join([c for c in authors if c not in punctuation])\n",
    "    \n",
    "# split by new lines and spaces\n",
    "authors_split = all_authors_text.split('\\n')\n",
    "all_authors_text = ' '.join(authors_split)\n",
    "\n",
    "# create a list of words\n",
    "all_authors = all_authors_text.split()\n",
    "\n",
    "print(authors_split[:5])"
   ]
  },
  {
   "cell_type": "markdown",
   "metadata": {},
   "source": [
    "**Encoding the authors**"
   ]
  },
  {
   "cell_type": "code",
   "execution_count": 211,
   "metadata": {},
   "outputs": [
    {
     "name": "stdout",
     "output_type": "stream",
     "text": [
      "[ 1065  3901  3902 ... 33861 33862   244]\n"
     ]
    }
   ],
   "source": [
    "# feel free to use this import \n",
    "from collections import Counter\n",
    "\n",
    "## Build a dictionary that maps words to integers\n",
    "counts_auth = Counter(all_authors)\n",
    "vocab_auth = sorted(counts_auth, key=counts_auth.get, reverse=True)\n",
    "vocab_to_int_auth = {word: ii for ii, word in enumerate(vocab_auth, 1)}\n",
    "\n",
    "# Add element for non-existing authors\n",
    "vocab_to_int_auth[\"None\"] = len(vocab_to_int_auth)+1\n",
    "\n",
    "## use the dict to tokenize each review in reviews_split\n",
    "## store the tokenized reviews in reviews_ints\n",
    "authors_ints = [[vocab_to_int_auth[word] for word in all_authors]]\n",
    "\n",
    "authors_ints = np.array(authors_ints).squeeze()\n",
    "\n",
    "print(authors_ints)"
   ]
  },
  {
   "cell_type": "markdown",
   "metadata": {},
   "source": [
    "### Removing Outliers\n",
    "\n",
    "As an additional pre-processing step, we want to make sure that our reviews are in good shape for standard processing. That is, our network will expect a standard input text size, and so, we'll want to shape our reviews into a specific length. We'll approach this task in two main steps:\n",
    "\n",
    "1. Getting rid of extremely long or short reviews; the outliers\n",
    "2. Padding/truncating the remaining data so that we have reviews of the same length.\n",
    "\n",
    "Before we pad our review text, we should check for reviews of extremely short or long lengths; outliers that may mess with our training."
   ]
  },
  {
   "cell_type": "code",
   "execution_count": 212,
   "metadata": {},
   "outputs": [
    {
     "name": "stdout",
     "output_type": "stream",
     "text": [
      "Zero-length reviews: 0\n",
      "Maximum review length: 33\n"
     ]
    }
   ],
   "source": [
    "# outlier review stats\n",
    "review_lens = Counter([len(x) for x in reviews_ints])\n",
    "print(\"Zero-length reviews: {}\".format(review_lens[0]))\n",
    "print(\"Maximum review length: {}\".format(max(review_lens)))"
   ]
  },
  {
   "cell_type": "markdown",
   "metadata": {},
   "source": [
    "Okay, a couple issues here. We seem to have one review with zero length. And, the maximum review length is way too many steps for our RNN. We'll have to remove any super short reviews and truncate super long reviews. This removes outliers and should allow our model to train more efficiently.\n",
    "\n",
    "> **Exercise:** First, remove *any* reviews with zero length from the `reviews_ints` list and their corresponding label in `encoded_labels`."
   ]
  },
  {
   "cell_type": "code",
   "execution_count": 213,
   "metadata": {},
   "outputs": [
    {
     "name": "stdout",
     "output_type": "stream",
     "text": [
      "Number of reviews before removing outliers:  40000\n",
      "Number of reviews after removing outliers:  40000\n"
     ]
    }
   ],
   "source": [
    "print('Number of reviews before removing outliers: ', len(reviews_ints))\n",
    "\n",
    "## remove any reviews/labels with zero length from the reviews_ints list.\n",
    "\n",
    "# get indices of any reviews with length 0\n",
    "non_zero_idx = [ii for ii, review in enumerate(reviews_ints) if len(review) != 0]\n",
    "\n",
    "# remove 0-length reviews and their labels\n",
    "reviews_ints = [reviews_ints[ii] for ii in non_zero_idx]\n",
    "encoded_labels = np.array([encoded_labels[ii] for ii in non_zero_idx])\n",
    "\n",
    "print('Number of reviews after removing outliers: ', len(reviews_ints))"
   ]
  },
  {
   "cell_type": "markdown",
   "metadata": {},
   "source": [
    "---\n",
    "## Padding sequences\n",
    "\n",
    "To deal with both short and very long reviews, we'll pad or truncate all our reviews to a specific length. For reviews shorter than some `seq_length`, we'll pad with 0s. For reviews longer than `seq_length`, we can truncate them to the first `seq_length` words. A good `seq_length`, in this case, is 200.\n",
    "\n",
    "> **Exercise:** Define a function that returns an array `features` that contains the padded data, of a standard size, that we'll pass to the network. \n",
    "* The data should come from `review_ints`, since we want to feed integers to the network. \n",
    "* Each row should be `seq_length` elements long. \n",
    "* For reviews shorter than `seq_length` words, **left pad** with 0s. That is, if the review is `['best', 'movie', 'ever']`, `[117, 18, 128]` as integers, the row will look like `[0, 0, 0, ..., 0, 117, 18, 128]`. \n",
    "* For reviews longer than `seq_length`, use only the first `seq_length` words as the feature vector.\n",
    "\n",
    "As a small example, if the `seq_length=10` and an input review is: \n",
    "```\n",
    "[117, 18, 128]\n",
    "```\n",
    "The resultant, padded sequence should be: \n",
    "\n",
    "```\n",
    "[0, 0, 0, 0, 0, 0, 0, 117, 18, 128]\n",
    "```\n",
    "\n",
    "**Your final `features` array should be a 2D array, with as many rows as there are reviews, and as many columns as the specified `seq_length`.**\n",
    "\n",
    "This isn't trivial and there are a bunch of ways to do this. But, if you're going to be building your own deep learning networks, you're going to have to get used to preparing your data."
   ]
  },
  {
   "cell_type": "code",
   "execution_count": 214,
   "metadata": {},
   "outputs": [],
   "source": [
    "def pad_features(reviews_ints, seq_length):\n",
    "    ''' Return features of review_ints, where each review is padded with 0's \n",
    "        or truncated to the input seq_length.\n",
    "    '''\n",
    "    \n",
    "    # getting the correct rows x cols shape\n",
    "    features = np.zeros((len(reviews_ints), seq_length), dtype=int)\n",
    "\n",
    "    # for each review, I grab that review and \n",
    "    for i, row in enumerate(reviews_ints):\n",
    "        features[i, -len(row):] = np.array(row)[:seq_length]\n",
    "    \n",
    "    return features"
   ]
  },
  {
   "cell_type": "code",
   "execution_count": 215,
   "metadata": {},
   "outputs": [
    {
     "name": "stdout",
     "output_type": "stream",
     "text": [
      "[[    0     0     0     0     0     0     0     0 14939     1    54     1]\n",
      " [    0     0     0     0     0     0     0     0     0     0     0     0]\n",
      " [    0     0     0     0     0     0     0     0     0     0     0     0]\n",
      " [    0     0     0     0     0     0     0     0     0     0     0     0]\n",
      " [    0     0     0     0     0     0     0     0     0     0 14942    61]\n",
      " [    0     0     0     0     0     0     0     0     0     0  7172 14943]\n",
      " [    1   134    23   131    19    13    27   362    60    85   222   242]\n",
      " [    0     0     0     0     0     0     0     0     0     0     0     0]\n",
      " [    0     0     0     0     0     0     0     0     0     0     0     0]\n",
      " [    0     0     0     0     0     0     0     0     0     0     0     0]\n",
      " [    0     0     0     0     0     0     0     0     0     0     0     0]\n",
      " [    0     0     0     0     0     0     0     0     0     0     0     0]\n",
      " [    0     0     0     0     0     0     0     0     0     0     0   281]\n",
      " [ 9423    70    57   207     3  2155    10   736    57    58  2769    56]\n",
      " [    0     0     0     0     0     0     0     0     0     0     0     0]\n",
      " [    0     0     0     0     0     0     0     0     0     0     0     0]\n",
      " [    0     0     0     0     0     0     0     0     0     0     0     0]\n",
      " [    0     0     0     0     0     0     0     0     0     0     0     0]\n",
      " [    0     0     0     0     0     0     0     0     0  2770   759  2940]\n",
      " [    0     0    79    36     7  3129    18     1    16   180   356     7]\n",
      " [    0     0     0     0     0     0     0     0     0 14954    81    44]\n",
      " [    0     0     0     0     0     0     0   894   110    13   516    25]\n",
      " [    0     0     0     0     0     0     0     0    37  1672  4452  4453]\n",
      " [    0     0     0     0     0     0     0     0     1   737   206     1]\n",
      " [    0     0     0     0     0     0    17   193     6     1    74    13]\n",
      " [    0     0    14     5   136    73   307   169    87   978   422  9424]\n",
      " [    0     0 14966    13   116   143    36    17  1977     2     7  5891]\n",
      " [    0     0     0     0     0     0     0     0     0     0  4454  3994]\n",
      " [    0     0     0     0     0     0     0     0     0     0  3995    20]\n",
      " [    0     0     0     0     0     0     0     0     0     0     0     0]]\n"
     ]
    }
   ],
   "source": [
    "# Test your implementation!\n",
    "\n",
    "seq_length = 25\n",
    "\n",
    "features = pad_features(reviews_ints, seq_length=seq_length)\n",
    "\n",
    "## test statements - do not change - ##\n",
    "assert len(features)==len(reviews_ints), \"Your features should have as many rows as reviews.\"\n",
    "assert len(features[0])==seq_length, \"Each feature row should contain seq_length values.\"\n",
    "\n",
    "# print first 10 values of the first 30 batches \n",
    "print(features[:30,:12])"
   ]
  },
  {
   "cell_type": "markdown",
   "metadata": {},
   "source": [
    "## Training, Validation, Test\n",
    "\n",
    "With our data in nice shape, we'll split it into training, validation, and test sets.\n",
    "\n",
    "> **Exercise:** Create the training, validation, and test sets. \n",
    "* You'll need to create sets for the features and the labels, `train_x` and `train_y`, for example. \n",
    "* Define a split fraction, `split_frac` as the fraction of data to **keep** in the training set. Usually this is set to 0.8 or 0.9. \n",
    "* Whatever data is left will be split in half to create the validation and *testing* data."
   ]
  },
  {
   "cell_type": "code",
   "execution_count": 216,
   "metadata": {},
   "outputs": [
    {
     "name": "stdout",
     "output_type": "stream",
     "text": [
      "\t\t\tFeature Shapes:\n",
      "Train set: \t\t(32000, 25) \n",
      "Validation set: \t(4000, 25) \n",
      "Test set: \t\t(4000, 25)\n"
     ]
    }
   ],
   "source": [
    "split_frac = 0.8\n",
    "\n",
    "## split data into training, validation, and test data (features and labels, x and y)\n",
    "\n",
    "split_idx = int(len(features)*split_frac)\n",
    "train_x, remaining_x = features[:split_idx], features[split_idx:]\n",
    "train_y, remaining_y = encoded_labels[:split_idx], encoded_labels[split_idx:]\n",
    "\n",
    "test_idx = int(len(remaining_x)*0.5)\n",
    "val_x, test_x = remaining_x[:test_idx], remaining_x[test_idx:]\n",
    "val_y, test_y = remaining_y[:test_idx], remaining_y[test_idx:]\n",
    "\n",
    "## print out the shapes of your resultant feature data\n",
    "print(\"\\t\\t\\tFeature Shapes:\")\n",
    "print(\"Train set: \\t\\t{}\".format(train_x.shape), \n",
    "      \"\\nValidation set: \\t{}\".format(val_x.shape),\n",
    "      \"\\nTest set: \\t\\t{}\".format(test_x.shape))\n"
   ]
  },
  {
   "cell_type": "markdown",
   "metadata": {},
   "source": [
    "**Split the authors accordingly**"
   ]
  },
  {
   "cell_type": "code",
   "execution_count": 217,
   "metadata": {},
   "outputs": [
    {
     "name": "stdout",
     "output_type": "stream",
     "text": [
      "\t\t\tFeature Shapes:\n",
      "Train set: \t\t(32000,) \n",
      "Validation set: \t(4000,) \n",
      "Test set: \t\t(4000,)\n"
     ]
    }
   ],
   "source": [
    "authors_x, remaining_authors = authors_ints[:split_idx], authors_ints[split_idx:]\n",
    "\n",
    "authors_val, authors_test = remaining_authors[:test_idx], remaining_authors[test_idx:]\n",
    "\n",
    "print(\"\\t\\t\\tFeature Shapes:\")\n",
    "print(\"Train set: \\t\\t{}\".format(authors_x.shape), \n",
    "      \"\\nValidation set: \\t{}\".format(authors_val.shape),\n",
    "      \"\\nTest set: \\t\\t{}\".format(authors_test.shape))"
   ]
  },
  {
   "cell_type": "markdown",
   "metadata": {},
   "source": [
    "**Check your work**\n",
    "\n",
    "With train, validation, and test fractions equal to 0.8, 0.1, 0.1, respectively, the final, feature data shapes should look like:\n",
    "```\n",
    "                    Feature Shapes:\n",
    "Train set: \t\t (train_size, word_length) \n",
    "Validation set: \t(val_size, word_length) \n",
    "Test set: \t\t  (test_size, word_length)\n",
    "```"
   ]
  },
  {
   "cell_type": "markdown",
   "metadata": {},
   "source": [
    "---\n",
    "## DataLoaders and Batching\n",
    "\n",
    "After creating training, test, and validation data, we can create DataLoaders for this data by following two steps:\n",
    "1. Create a known format for accessing our data, using [TensorDataset](https://pytorch.org/docs/stable/data.html#) which takes in an input set of data and a target set of data with the same first dimension, and creates a dataset.\n",
    "2. Create DataLoaders and batch our training, validation, and test Tensor datasets.\n",
    "\n",
    "```\n",
    "train_data = TensorDataset(torch.from_numpy(train_x), torch.from_numpy(train_y))\n",
    "train_loader = DataLoader(train_data, batch_size=batch_size)\n",
    "```\n",
    "\n",
    "This is an alternative to creating a generator function for batching our data into full batches."
   ]
  },
  {
   "cell_type": "code",
   "execution_count": null,
   "metadata": {},
   "outputs": [],
   "source": []
  },
  {
   "cell_type": "code",
   "execution_count": 218,
   "metadata": {},
   "outputs": [],
   "source": [
    "import torch\n",
    "from torch.utils.data import TensorDataset, DataLoader\n",
    "\n",
    "# create Tensor datasets\n",
    "train_data = TensorDataset(torch.from_numpy(train_x), torch.from_numpy(train_y), torch.from_numpy(authors_x))\n",
    "valid_data = TensorDataset(torch.from_numpy(val_x), torch.from_numpy(val_y), torch.from_numpy(authors_val))\n",
    "test_data = TensorDataset(torch.from_numpy(test_x), torch.from_numpy(test_y), torch.from_numpy(authors_test))\n",
    "\n",
    "# dataloaders\n",
    "batch_size = 50\n",
    "\n",
    "# make sure the SHUFFLE your training data\n",
    "train_loader = DataLoader(train_data, shuffle=True, batch_size=batch_size)\n",
    "valid_loader = DataLoader(valid_data, shuffle=True, batch_size=batch_size)\n",
    "test_loader = DataLoader(test_data, shuffle=True, batch_size=batch_size)"
   ]
  },
  {
   "cell_type": "code",
   "execution_count": 219,
   "metadata": {},
   "outputs": [
    {
     "name": "stdout",
     "output_type": "stream",
     "text": [
      "Sample input size:  torch.Size([50, 25])\n",
      "Sample input: \n",
      " tensor([[    0,     0,     0,  ...,  9237,  4906,  1294],\n",
      "        [    0,  3921,    74,  ...,   511,     8,   225],\n",
      "        [    0,     0,     0,  ...,     6,    23,    49],\n",
      "        ...,\n",
      "        [13373,     1,    74,  ...,  1105,    18,  4339],\n",
      "        [    0,     0, 24141,  ...,    14,     8,   198],\n",
      "        [    0,     0, 39963,  ...,     3,  3030, 12620]])\n",
      "\n",
      "Sample label size:  torch.Size([50])\n",
      "Sample label: \n",
      " tensor([ 4,  0,  2,  6,  3,  1,  0,  6,  0,  9,  3,  4,  2,  4,  5,  5,  3,  2,\n",
      "         4,  1,  0,  3,  1,  3,  8,  0,  5,  1,  0,  5,  1,  3,  3,  4,  9,  1,\n",
      "         0,  3,  6, 10,  1,  0,  3, 10,  4,  5,  1,  0,  0,  1])\n",
      "\n",
      "Sample label size:  torch.Size([50])\n",
      "Sample label: \n",
      " tensor([  956, 11869, 27600, 27333,  5819,  4839,   649, 23497, 10498, 19137,\n",
      "         1938,  1632, 20676,   329, 24256,   566,  6779,     1, 20215,    92,\n",
      "         8774, 15186, 15444, 15162, 18392, 18776,  5781,     3, 21114,  5592,\n",
      "        18086,    44,   651, 21036, 17193, 17393, 11634, 20995,   640, 22991,\n",
      "         5922,  7431, 17709,  6926,  2884,  8404, 12864,  2930, 11620, 23904])\n"
     ]
    }
   ],
   "source": [
    "# obtain one batch of training data\n",
    "dataiter = iter(train_loader)\n",
    "sample_x, sample_y, author = dataiter.next()\n",
    "\n",
    "print('Sample input size: ', sample_x.size()) # batch_size, seq_length\n",
    "print('Sample input: \\n', sample_x)\n",
    "print()\n",
    "print('Sample label size: ', sample_y.size()) # batch_size\n",
    "print('Sample label: \\n', sample_y)\n",
    "print()\n",
    "print('Sample label size: ', author.size()) # batch_size\n",
    "print('Sample label: \\n', author)"
   ]
  },
  {
   "cell_type": "markdown",
   "metadata": {},
   "source": [
    "---\n",
    "# Sentiment Network with PyTorch\n",
    "\n",
    "Below is where you'll define the network.\n",
    "\n",
    "<img src=\"assets/network_diagram.png\" width=40%>\n",
    "\n",
    "The layers are as follows:\n",
    "1. An [embedding layer](https://pytorch.org/docs/stable/nn.html#embedding) that converts our word tokens (integers) into embeddings of a specific size.\n",
    "2. An [LSTM layer](https://pytorch.org/docs/stable/nn.html#lstm) defined by a hidden_state size and number of layers\n",
    "3. A fully-connected output layer that maps the LSTM layer outputs to a desired output_size\n",
    "4. A sigmoid activation layer which turns all outputs into a value 0-1; return **only the last sigmoid output** as the output of this network.\n",
    "\n",
    "### The Embedding Layer\n",
    "\n",
    "We need to add an [embedding layer](https://pytorch.org/docs/stable/nn.html#embedding) because there are 74000+ words in our vocabulary. It is massively inefficient to one-hot encode that many classes. So, instead of one-hot encoding, we can have an embedding layer and use that layer as a lookup table. You could train an embedding layer using Word2Vec, then load it here. But, it's fine to just make a new layer, using it for only dimensionality reduction, and let the network learn the weights.\n",
    "\n",
    "\n",
    "### The LSTM Layer(s)\n",
    "\n",
    "We'll create an [LSTM](https://pytorch.org/docs/stable/nn.html#lstm) to use in our recurrent network, which takes in an input_size, a hidden_dim, a number of layers, a dropout probability (for dropout between multiple layers), and a batch_first parameter.\n",
    "\n",
    "Most of the time, you're network will have better performance with more layers; between 2-3. Adding more layers allows the network to learn really complex relationships. \n",
    "\n",
    "> **Exercise:** Complete the `__init__`, `forward`, and `init_hidden` functions for the SentimentRNN model class.\n",
    "\n",
    "Note: `init_hidden` should initialize the hidden and cell state of an lstm layer to all zeros, and move those state to GPU, if available."
   ]
  },
  {
   "cell_type": "code",
   "execution_count": 220,
   "metadata": {},
   "outputs": [
    {
     "name": "stdout",
     "output_type": "stream",
     "text": [
      "Training on GPU.\n"
     ]
    }
   ],
   "source": [
    "# First checking if GPU is available\n",
    "train_on_gpu=torch.cuda.is_available()\n",
    "\n",
    "if(train_on_gpu):\n",
    "    print('Training on GPU.')\n",
    "else:\n",
    "    print('No GPU available, training on CPU.')"
   ]
  },
  {
   "cell_type": "code",
   "execution_count": 221,
   "metadata": {},
   "outputs": [],
   "source": [
    "import torch.nn as nn\n",
    "\n",
    "class SentimentRNN(nn.Module):\n",
    "    \"\"\"\n",
    "    The RNN model that will be used to perform Sentiment analysis.\n",
    "    \"\"\"\n",
    "\n",
    "    def __init__(self, vocab_size, output_size, embedding_dim, hidden_dim, n_layers, drop_prob=0.5):\n",
    "        \"\"\"\n",
    "        Initialize the model by setting up the layers.\n",
    "        \"\"\"\n",
    "        super(SentimentRNN, self).__init__()\n",
    "\n",
    "        self.output_size = output_size\n",
    "        self.n_layers = n_layers\n",
    "        self.hidden_dim = hidden_dim\n",
    "        \n",
    "        # embedding and LSTM layers\n",
    "        self.embedding = nn.Embedding(vocab_size, embedding_dim)\n",
    "        self.embedding_author = nn.Embedding(len(vocab_to_int_auth)+1, hidden_dim) # make it same dimension as h_t\n",
    "            \n",
    "\n",
    "        self.lstm = nn.LSTM(embedding_dim, hidden_dim, n_layers, \n",
    "                            dropout=drop_prob, batch_first=True)\n",
    "        \n",
    "        # dropout layer\n",
    "        self.dropout = nn.Dropout(0.7)\n",
    "        \n",
    "        # linear and sigmoid layers\n",
    "        self.fc = nn.Linear(hidden_dim, output_size)\n",
    "        self.softmax = nn.LogSoftmax(dim=1)\n",
    "        \n",
    "\n",
    "    def forward(self, x, hidden, author):\n",
    "        \"\"\"\n",
    "        Perform a forward pass of our model on some input and hidden state.\n",
    "        \"\"\"\n",
    "        # embeddings and lstm_out\n",
    "        batch_size = x.size(0)\n",
    "        \n",
    "        # embeddings and lstm_out\n",
    "        x = x.long()\n",
    "        embeds = self.embedding(x)\n",
    "        author_embedded = self.embedding_author\n",
    "       \n",
    "        lstm_out, hidden = self.lstm(embeds, hidden)\n",
    "        # stack up lstm outputs\n",
    "        lstm_out = lstm_out.contiguous().view(-1, self.hidden_dim)\n",
    "       \n",
    "        # dropout and fully-connected layer\n",
    "        out = self.dropout(lstm_out)\n",
    "        out = self.fc(out)\n",
    "        \n",
    "        # sigmoid function\n",
    "        softmax_out = self.softmax(out)\n",
    "        # reshape to be batch_size first\n",
    "        softmax_out = softmax_out.view(batch_size, seq_length, -1)\n",
    "        softmax_out = softmax_out[:, -1] # get last batch of labels\n",
    "\n",
    "        # return last sigmoid output and hidden state\n",
    "        return softmax_out, hidden\n",
    "    \n",
    "    \n",
    "    def init_hidden(self, batch_size):\n",
    "        ''' Initializes hidden state '''\n",
    "        # Create two new tensors with sizes n_layers x batch_size x hidden_dim,\n",
    "        # initialized to zero, for hidden state and cell state of LSTM\n",
    "        weight = next(self.parameters()).data\n",
    "        \n",
    "        if (train_on_gpu):\n",
    "            hidden = (weight.new(self.n_layers, batch_size, self.hidden_dim).zero_().cuda(),\n",
    "                  weight.new(self.n_layers, batch_size, self.hidden_dim).zero_().cuda())\n",
    "        else:\n",
    "            hidden = (weight.new(self.n_layers, batch_size, self.hidden_dim).zero_(),\n",
    "                      weight.new(self.n_layers, batch_size, self.hidden_dim).zero_())\n",
    "        \n",
    "        return hidden\n",
    "        "
   ]
  },
  {
   "cell_type": "markdown",
   "metadata": {},
   "source": [
    "## Save and Load models"
   ]
  },
  {
   "cell_type": "code",
   "execution_count": 222,
   "metadata": {},
   "outputs": [],
   "source": [
    "# Saving function\n",
    "def save_model (model):\n",
    "    #other information about the model\n",
    "    torch.save(model.state_dict(), 'data/lstm_best.pth')"
   ]
  },
  {
   "cell_type": "markdown",
   "metadata": {},
   "source": [
    "## Instantiate the network\n",
    "\n",
    "Here, we'll instantiate the network. First up, defining the hyperparameters.\n",
    "\n",
    "* `vocab_size`: Size of our vocabulary or the range of values for our input, word tokens.\n",
    "* `output_size`: Size of our desired output; the number of class scores we want to output (pos/neg).\n",
    "* `embedding_dim`: Number of columns in the embedding lookup table; size of our embeddings.\n",
    "* `hidden_dim`: Number of units in the hidden layers of our LSTM cells. Usually larger is better performance wise. Common values are 128, 256, 512, etc.\n",
    "* `n_layers`: Number of LSTM layers in the network. Typically between 1-3\n",
    "\n",
    "> **Exercise:** Define the model  hyperparameters.\n"
   ]
  },
  {
   "cell_type": "code",
   "execution_count": 223,
   "metadata": {},
   "outputs": [
    {
     "name": "stdout",
     "output_type": "stream",
     "text": [
      "SentimentRNN(\n",
      "  (embedding): Embedding(53748, 256)\n",
      "  (embedding_author): Embedding(33864, 100)\n",
      "  (lstm): LSTM(256, 100, batch_first=True, dropout=0.5)\n",
      "  (dropout): Dropout(p=0.7, inplace=False)\n",
      "  (fc): Linear(in_features=100, out_features=13, bias=True)\n",
      "  (softmax): LogSoftmax()\n",
      ")\n"
     ]
    },
    {
     "name": "stderr",
     "output_type": "stream",
     "text": [
      "/home/pablo/anaconda3/envs/pytorch/lib/python3.8/site-packages/torch/nn/modules/rnn.py:47: UserWarning: dropout option adds dropout after all but last recurrent layer, so non-zero dropout expects num_layers greater than 1, but got dropout=0.5 and num_layers=1\n",
      "  warnings.warn(\"dropout option adds dropout after all but last \"\n"
     ]
    }
   ],
   "source": [
    "# Instantiate the model w/ hyperparams\n",
    "vocab_size = len(vocab_to_int)+1 # +1 for the 0 padding + our word tokens\n",
    "output_size = 13\n",
    "embedding_dim = 256\n",
    "hidden_dim = 100\n",
    "n_layers = 1\n",
    "\n",
    "net = SentimentRNN(vocab_size, output_size, embedding_dim, hidden_dim, n_layers)\n",
    "\n",
    "print(net)"
   ]
  },
  {
   "cell_type": "markdown",
   "metadata": {},
   "source": [
    "---\n",
    "## Training\n",
    "\n",
    "Below is the typical training code. If you want to do this yourself, feel free to delete all this code and implement it yourself. You can also add code to save a model by name.\n",
    "\n",
    ">We'll also be using a new kind of cross entropy loss, which is designed to work with a single Sigmoid output. [BCELoss](https://pytorch.org/docs/stable/nn.html#bceloss), or **Binary Cross Entropy Loss**, applies cross entropy loss to a single value between 0 and 1.\n",
    "\n",
    "We also have some data and training hyparameters:\n",
    "\n",
    "* `lr`: Learning rate for our optimizer.\n",
    "* `epochs`: Number of times to iterate through the training dataset.\n",
    "* `clip`: The maximum gradient value to clip at (to prevent exploding gradients)."
   ]
  },
  {
   "cell_type": "code",
   "execution_count": 224,
   "metadata": {},
   "outputs": [],
   "source": [
    "# loss and optimization functions\n",
    "lr=0.001\n",
    "\n",
    "criterion = nn.CrossEntropyLoss()\n",
    "optimizer = torch.optim.RMSprop(net.parameters(), lr=lr)\n",
    "# Adamax\n"
   ]
  },
  {
   "cell_type": "code",
   "execution_count": 225,
   "metadata": {},
   "outputs": [
    {
     "name": "stdout",
     "output_type": "stream",
     "text": [
      "Epoch: 1/30... Step: 100... Loss: 2.121228... Val Loss: 2.260687\n",
      "Val loss improved to 2.260687. Saving model...\n",
      "Epoch: 1/30... Step: 200... Loss: 1.984893... Val Loss: 2.266338\n",
      "Epoch: 1/30... Step: 300... Loss: 2.358399... Val Loss: 2.222852\n",
      "Val loss improved to 2.222852. Saving model...\n",
      "Epoch: 1/30... Step: 400... Loss: 1.985832... Val Loss: 2.219423\n",
      "Val loss improved to 2.219423. Saving model...\n",
      "Epoch: 1/30... Step: 500... Loss: 2.014025... Val Loss: 2.185413\n",
      "Val loss improved to 2.185413. Saving model...\n",
      "Epoch: 1/30... Step: 600... Loss: 1.913555... Val Loss: 2.176564\n",
      "Val loss improved to 2.176564. Saving model...\n",
      "Epoch: 2/30... Step: 700... Loss: 1.949304... Val Loss: 2.098589\n",
      "Val loss improved to 2.098589. Saving model...\n",
      "Epoch: 2/30... Step: 800... Loss: 2.055647... Val Loss: 2.065220\n",
      "Val loss improved to 2.065220. Saving model...\n",
      "Epoch: 2/30... Step: 900... Loss: 1.990028... Val Loss: 2.047651\n",
      "Val loss improved to 2.047651. Saving model...\n",
      "Epoch: 2/30... Step: 1000... Loss: 2.050577... Val Loss: 2.018982\n",
      "Val loss improved to 2.018982. Saving model...\n",
      "Epoch: 2/30... Step: 1100... Loss: 1.929938... Val Loss: 2.008132\n",
      "Val loss improved to 2.008132. Saving model...\n",
      "Epoch: 2/30... Step: 1200... Loss: 1.959232... Val Loss: 2.006384\n",
      "Val loss improved to 2.006384. Saving model...\n",
      "Epoch: 3/30... Step: 1300... Loss: 1.833446... Val Loss: 2.028695\n",
      "Epoch: 3/30... Step: 1400... Loss: 2.046005... Val Loss: 1.979502\n",
      "Val loss improved to 1.979502. Saving model...\n",
      "Epoch: 3/30... Step: 1500... Loss: 1.826163... Val Loss: 2.038369\n",
      "Epoch: 3/30... Step: 1600... Loss: 1.961796... Val Loss: 1.944774\n",
      "Val loss improved to 1.944774. Saving model...\n",
      "Epoch: 3/30... Step: 1700... Loss: 1.658106... Val Loss: 1.969794\n",
      "Epoch: 3/30... Step: 1800... Loss: 1.785958... Val Loss: 2.015718\n",
      "Epoch: 3/30... Step: 1900... Loss: 1.732284... Val Loss: 2.013455\n",
      "Epoch: 4/30... Step: 2000... Loss: 1.851491... Val Loss: 1.994518\n",
      "Epoch: 4/30... Step: 2100... Loss: 1.664666... Val Loss: 1.960237\n",
      "Epoch: 4/30... Step: 2200... Loss: 1.677000... Val Loss: 1.946476\n",
      "Epoch: 4/30... Step: 2300... Loss: 1.781889... Val Loss: 1.955322\n",
      "Epoch: 4/30... Step: 2400... Loss: 1.882736... Val Loss: 1.967454\n",
      "Epoch: 4/30... Step: 2500... Loss: 1.709314... Val Loss: 1.969411\n",
      "Epoch: 5/30... Step: 2600... Loss: 1.510912... Val Loss: 1.981010\n",
      "Epoch: 5/30... Step: 2700... Loss: 1.801687... Val Loss: 1.975050\n",
      "Epoch: 5/30... Step: 2800... Loss: 1.955687... Val Loss: 2.021481\n",
      "Epoch: 5/30... Step: 2900... Loss: 1.706440... Val Loss: 2.010263\n",
      "Epoch: 5/30... Step: 3000... Loss: 1.761505... Val Loss: 1.974932\n",
      "Epoch: 5/30... Step: 3100... Loss: 1.753682... Val Loss: 2.004988\n",
      "Epoch: 5/30... Step: 3200... Loss: 1.732657... Val Loss: 1.996245\n",
      "Epoch: 6/30... Step: 3300... Loss: 1.411129... Val Loss: 1.998890\n",
      "Epoch: 6/30... Step: 3400... Loss: 1.533456... Val Loss: 2.065883\n",
      "Epoch: 6/30... Step: 3500... Loss: 1.537659... Val Loss: 2.036887\n",
      "Epoch: 6/30... Step: 3600... Loss: 1.608533... Val Loss: 2.088142\n",
      "Epoch: 6/30... Step: 3700... Loss: 1.407565... Val Loss: 2.045102\n",
      "Epoch: 6/30... Step: 3800... Loss: 1.510278... Val Loss: 2.051318\n",
      "Epoch: 7/30... Step: 3900... Loss: 1.481032... Val Loss: 2.087801\n",
      "Epoch: 7/30... Step: 4000... Loss: 1.282308... Val Loss: 2.146638\n",
      "Epoch: 7/30... Step: 4100... Loss: 1.325338... Val Loss: 2.101576\n",
      "Epoch: 7/30... Step: 4200... Loss: 1.368231... Val Loss: 2.130574\n",
      "Epoch: 7/30... Step: 4300... Loss: 1.441043... Val Loss: 2.099499\n",
      "Epoch: 7/30... Step: 4400... Loss: 1.439926... Val Loss: 2.123724\n",
      "Epoch: 8/30... Step: 4500... Loss: 1.457194... Val Loss: 2.151173\n",
      "Epoch: 8/30... Step: 4600... Loss: 1.438984... Val Loss: 2.206309\n",
      "Epoch: 8/30... Step: 4700... Loss: 1.529762... Val Loss: 2.136193\n",
      "Epoch: 8/30... Step: 4800... Loss: 1.087445... Val Loss: 2.138314\n",
      "Epoch: 8/30... Step: 4900... Loss: 1.190029... Val Loss: 2.217164\n",
      "Epoch: 8/30... Step: 5000... Loss: 1.339834... Val Loss: 2.190178\n",
      "Epoch: 8/30... Step: 5100... Loss: 1.702449... Val Loss: 2.229516\n",
      "Epoch: 9/30... Step: 5200... Loss: 1.289098... Val Loss: 2.268941\n",
      "Epoch: 9/30... Step: 5300... Loss: 1.050112... Val Loss: 2.296413\n",
      "Epoch: 9/30... Step: 5400... Loss: 1.471153... Val Loss: 2.302001\n",
      "Epoch: 9/30... Step: 5500... Loss: 1.351103... Val Loss: 2.325548\n",
      "Epoch: 9/30... Step: 5600... Loss: 1.510109... Val Loss: 2.414203\n",
      "Epoch: 9/30... Step: 5700... Loss: 1.157744... Val Loss: 2.317294\n",
      "Epoch: 10/30... Step: 5800... Loss: 1.018695... Val Loss: 2.358423\n",
      "Epoch: 10/30... Step: 5900... Loss: 1.133830... Val Loss: 2.412092\n",
      "Epoch: 10/30... Step: 6000... Loss: 1.577929... Val Loss: 2.415751\n",
      "Epoch: 10/30... Step: 6100... Loss: 1.127347... Val Loss: 2.482961\n",
      "Epoch: 10/30... Step: 6200... Loss: 0.989540... Val Loss: 2.388741\n",
      "Epoch: 10/30... Step: 6300... Loss: 1.250650... Val Loss: 2.431384\n",
      "Epoch: 10/30... Step: 6400... Loss: 1.174476... Val Loss: 2.449048\n",
      "Epoch: 11/30... Step: 6500... Loss: 1.402173... Val Loss: 2.470201\n",
      "Epoch: 11/30... Step: 6600... Loss: 0.859860... Val Loss: 2.535681\n",
      "Epoch: 11/30... Step: 6700... Loss: 1.055977... Val Loss: 2.623690\n",
      "Epoch: 11/30... Step: 6800... Loss: 1.296789... Val Loss: 2.537653\n",
      "Epoch: 11/30... Step: 6900... Loss: 1.337051... Val Loss: 2.504470\n",
      "Epoch: 11/30... Step: 7000... Loss: 1.093263... Val Loss: 2.532700\n",
      "Epoch: 12/30... Step: 7100... Loss: 0.980920... Val Loss: 2.655046\n",
      "Epoch: 12/30... Step: 7200... Loss: 0.853738... Val Loss: 2.687608\n",
      "Epoch: 12/30... Step: 7300... Loss: 1.116845... Val Loss: 2.677052\n",
      "Epoch: 12/30... Step: 7400... Loss: 0.979042... Val Loss: 2.739876\n",
      "Epoch: 12/30... Step: 7500... Loss: 1.069698... Val Loss: 2.645152\n",
      "Epoch: 12/30... Step: 7600... Loss: 1.489386... Val Loss: 2.639249\n",
      "Epoch: 13/30... Step: 7700... Loss: 1.205098... Val Loss: 2.660503\n",
      "Epoch: 13/30... Step: 7800... Loss: 1.272611... Val Loss: 2.758000\n",
      "Epoch: 13/30... Step: 7900... Loss: 1.126223... Val Loss: 2.730158\n",
      "Epoch: 13/30... Step: 8000... Loss: 0.842220... Val Loss: 2.754357\n",
      "Epoch: 13/30... Step: 8100... Loss: 1.171676... Val Loss: 2.768683\n",
      "Epoch: 13/30... Step: 8200... Loss: 0.689064... Val Loss: 2.809936\n",
      "Epoch: 13/30... Step: 8300... Loss: 1.033159... Val Loss: 2.974420\n",
      "Epoch: 14/30... Step: 8400... Loss: 1.192945... Val Loss: 2.823450\n",
      "Epoch: 14/30... Step: 8500... Loss: 0.904969... Val Loss: 2.944416\n",
      "Epoch: 14/30... Step: 8600... Loss: 0.852279... Val Loss: 2.959904\n",
      "Epoch: 14/30... Step: 8700... Loss: 0.998966... Val Loss: 2.843440\n",
      "Epoch: 14/30... Step: 8800... Loss: 0.819793... Val Loss: 2.909610\n",
      "Epoch: 14/30... Step: 8900... Loss: 1.075091... Val Loss: 2.919175\n",
      "Epoch: 15/30... Step: 9000... Loss: 0.974834... Val Loss: 2.943014\n",
      "Epoch: 15/30... Step: 9100... Loss: 0.742805... Val Loss: 3.007662\n",
      "Epoch: 15/30... Step: 9200... Loss: 0.974651... Val Loss: 3.016302\n",
      "Epoch: 15/30... Step: 9300... Loss: 0.785268... Val Loss: 3.055526\n",
      "Epoch: 15/30... Step: 9400... Loss: 0.570411... Val Loss: 3.026310\n",
      "Epoch: 15/30... Step: 9500... Loss: 0.810881... Val Loss: 3.051134\n",
      "Epoch: 15/30... Step: 9600... Loss: 0.695584... Val Loss: 3.088808\n",
      "Epoch: 16/30... Step: 9700... Loss: 0.842874... Val Loss: 3.134626\n",
      "Epoch: 16/30... Step: 9800... Loss: 0.583544... Val Loss: 3.242049\n",
      "Epoch: 16/30... Step: 9900... Loss: 0.734129... Val Loss: 3.234293\n",
      "Epoch: 16/30... Step: 10000... Loss: 0.614803... Val Loss: 3.112274\n",
      "Epoch: 16/30... Step: 10100... Loss: 1.004766... Val Loss: 3.132146\n",
      "Epoch: 16/30... Step: 10200... Loss: 0.702634... Val Loss: 3.178170\n",
      "Epoch: 17/30... Step: 10300... Loss: 0.862627... Val Loss: 3.254135\n",
      "Epoch: 17/30... Step: 10400... Loss: 0.967355... Val Loss: 3.249040\n",
      "Epoch: 17/30... Step: 10500... Loss: 0.576150... Val Loss: 3.341117\n",
      "Epoch: 17/30... Step: 10600... Loss: 0.763501... Val Loss: 3.175957\n",
      "Epoch: 17/30... Step: 10700... Loss: 1.036975... Val Loss: 3.161513\n",
      "Epoch: 17/30... Step: 10800... Loss: 0.864158... Val Loss: 3.371310\n",
      "Epoch: 18/30... Step: 10900... Loss: 0.593483... Val Loss: 3.367645\n",
      "Epoch: 18/30... Step: 11000... Loss: 0.536715... Val Loss: 3.389856\n",
      "Epoch: 18/30... Step: 11100... Loss: 0.443881... Val Loss: 3.496924\n",
      "Epoch: 18/30... Step: 11200... Loss: 0.888610... Val Loss: 3.520438\n",
      "Epoch: 18/30... Step: 11300... Loss: 0.605504... Val Loss: 3.339176\n",
      "Epoch: 18/30... Step: 11400... Loss: 0.689615... Val Loss: 3.398712\n"
     ]
    },
    {
     "name": "stdout",
     "output_type": "stream",
     "text": [
      "Epoch: 18/30... Step: 11500... Loss: 0.835622... Val Loss: 3.330767\n",
      "Epoch: 19/30... Step: 11600... Loss: 0.499693... Val Loss: 3.396364\n",
      "Epoch: 19/30... Step: 11700... Loss: 0.580205... Val Loss: 3.562249\n",
      "Epoch: 19/30... Step: 11800... Loss: 0.714735... Val Loss: 3.505370\n",
      "Epoch: 19/30... Step: 11900... Loss: 0.732818... Val Loss: 3.560295\n",
      "Epoch: 19/30... Step: 12000... Loss: 0.454642... Val Loss: 3.569531\n",
      "Epoch: 19/30... Step: 12100... Loss: 0.571471... Val Loss: 3.631360\n",
      "Epoch: 20/30... Step: 12200... Loss: 0.389745... Val Loss: 3.682047\n",
      "Epoch: 20/30... Step: 12300... Loss: 0.532012... Val Loss: 3.603214\n",
      "Epoch: 20/30... Step: 12400... Loss: 0.625362... Val Loss: 3.659446\n",
      "Epoch: 20/30... Step: 12500... Loss: 0.633000... Val Loss: 3.667255\n",
      "Epoch: 20/30... Step: 12600... Loss: 0.734174... Val Loss: 3.693313\n",
      "Epoch: 20/30... Step: 12700... Loss: 0.534035... Val Loss: 3.586832\n",
      "Epoch: 20/30... Step: 12800... Loss: 0.639019... Val Loss: 3.612944\n",
      "Epoch: 21/30... Step: 12900... Loss: 0.535047... Val Loss: 3.735026\n",
      "Epoch: 21/30... Step: 13000... Loss: 0.523750... Val Loss: 3.784285\n",
      "Epoch: 21/30... Step: 13100... Loss: 0.419452... Val Loss: 3.835721\n",
      "Epoch: 21/30... Step: 13200... Loss: 0.512061... Val Loss: 3.706530\n",
      "Epoch: 21/30... Step: 13300... Loss: 0.637532... Val Loss: 3.713832\n",
      "Epoch: 21/30... Step: 13400... Loss: 0.460358... Val Loss: 3.802885\n",
      "Epoch: 22/30... Step: 13500... Loss: 0.450244... Val Loss: 3.819155\n",
      "Epoch: 22/30... Step: 13600... Loss: 0.481289... Val Loss: 3.872663\n",
      "Epoch: 22/30... Step: 13700... Loss: 0.455785... Val Loss: 3.890593\n",
      "Epoch: 22/30... Step: 13800... Loss: 0.497414... Val Loss: 3.843267\n",
      "Epoch: 22/30... Step: 13900... Loss: 0.452901... Val Loss: 3.850982\n",
      "Epoch: 22/30... Step: 14000... Loss: 0.642118... Val Loss: 3.862996\n",
      "Epoch: 23/30... Step: 14100... Loss: 0.369383... Val Loss: 3.900196\n",
      "Epoch: 23/30... Step: 14200... Loss: 0.567616... Val Loss: 3.882786\n",
      "Epoch: 23/30... Step: 14300... Loss: 0.670062... Val Loss: 3.915944\n",
      "Epoch: 23/30... Step: 14400... Loss: 0.506546... Val Loss: 3.960980\n",
      "Epoch: 23/30... Step: 14500... Loss: 0.645942... Val Loss: 3.970230\n",
      "Epoch: 23/30... Step: 14600... Loss: 0.303875... Val Loss: 4.074209\n",
      "Epoch: 23/30... Step: 14700... Loss: 0.592385... Val Loss: 4.006162\n",
      "Epoch: 24/30... Step: 14800... Loss: 0.461343... Val Loss: 4.221775\n",
      "Epoch: 24/30... Step: 14900... Loss: 0.250841... Val Loss: 4.041911\n",
      "Epoch: 24/30... Step: 15000... Loss: 0.427383... Val Loss: 4.161021\n",
      "Epoch: 24/30... Step: 15100... Loss: 0.708646... Val Loss: 4.134599\n",
      "Epoch: 24/30... Step: 15200... Loss: 0.290714... Val Loss: 4.028444\n",
      "Epoch: 24/30... Step: 15300... Loss: 0.571549... Val Loss: 4.082489\n",
      "Epoch: 25/30... Step: 15400... Loss: 0.572655... Val Loss: 4.085749\n",
      "Epoch: 25/30... Step: 15500... Loss: 0.588435... Val Loss: 4.198415\n",
      "Epoch: 25/30... Step: 15600... Loss: 0.366161... Val Loss: 4.159659\n",
      "Epoch: 25/30... Step: 15700... Loss: 0.352142... Val Loss: 4.121748\n",
      "Epoch: 25/30... Step: 15800... Loss: 0.545682... Val Loss: 4.205438\n",
      "Epoch: 25/30... Step: 15900... Loss: 0.540997... Val Loss: 4.044298\n",
      "Epoch: 25/30... Step: 16000... Loss: 0.826784... Val Loss: 4.086469\n",
      "Epoch: 26/30... Step: 16100... Loss: 0.439814... Val Loss: 4.188094\n",
      "Epoch: 26/30... Step: 16200... Loss: 0.414034... Val Loss: 4.157630\n",
      "Epoch: 26/30... Step: 16300... Loss: 0.399906... Val Loss: 4.262893\n",
      "Epoch: 26/30... Step: 16400... Loss: 0.556165... Val Loss: 4.163829\n",
      "Epoch: 26/30... Step: 16500... Loss: 0.332473... Val Loss: 4.301165\n",
      "Epoch: 26/30... Step: 16600... Loss: 0.525997... Val Loss: 4.223474\n",
      "Epoch: 27/30... Step: 16700... Loss: 0.404235... Val Loss: 4.200653\n",
      "Epoch: 27/30... Step: 16800... Loss: 0.231705... Val Loss: 4.138219\n",
      "Epoch: 27/30... Step: 16900... Loss: 0.638877... Val Loss: 4.453714\n",
      "Epoch: 27/30... Step: 17000... Loss: 0.283712... Val Loss: 4.282515\n",
      "Epoch: 27/30... Step: 17100... Loss: 0.424215... Val Loss: 4.335896\n",
      "Epoch: 27/30... Step: 17200... Loss: 0.196043... Val Loss: 4.308352\n",
      "Epoch: 28/30... Step: 17300... Loss: 0.332599... Val Loss: 4.356651\n",
      "Epoch: 28/30... Step: 17400... Loss: 0.390206... Val Loss: 4.417807\n",
      "Epoch: 28/30... Step: 17500... Loss: 0.387224... Val Loss: 4.393537\n",
      "Epoch: 28/30... Step: 17600... Loss: 0.443083... Val Loss: 4.415845\n",
      "Epoch: 28/30... Step: 17700... Loss: 0.479141... Val Loss: 4.383193\n",
      "Epoch: 28/30... Step: 17800... Loss: 0.352122... Val Loss: 4.451645\n",
      "Epoch: 28/30... Step: 17900... Loss: 0.431911... Val Loss: 4.455628\n",
      "Epoch: 29/30... Step: 18000... Loss: 0.508473... Val Loss: 4.479450\n",
      "Epoch: 29/30... Step: 18100... Loss: 0.440087... Val Loss: 4.626837\n",
      "Epoch: 29/30... Step: 18200... Loss: 0.623899... Val Loss: 4.513325\n",
      "Epoch: 29/30... Step: 18300... Loss: 0.196215... Val Loss: 4.497710\n",
      "Epoch: 29/30... Step: 18400... Loss: 0.287074... Val Loss: 4.427449\n",
      "Epoch: 29/30... Step: 18500... Loss: 0.283961... Val Loss: 4.565751\n",
      "Epoch: 30/30... Step: 18600... Loss: 0.309965... Val Loss: 4.507424\n",
      "Epoch: 30/30... Step: 18700... Loss: 0.420929... Val Loss: 4.650634\n",
      "Epoch: 30/30... Step: 18800... Loss: 0.353365... Val Loss: 4.551947\n",
      "Epoch: 30/30... Step: 18900... Loss: 0.303797... Val Loss: 4.548815\n",
      "Epoch: 30/30... Step: 19000... Loss: 0.206166... Val Loss: 4.528735\n",
      "Epoch: 30/30... Step: 19100... Loss: 0.220427... Val Loss: 4.680653\n",
      "Epoch: 30/30... Step: 19200... Loss: 0.448618... Val Loss: 4.584182\n"
     ]
    }
   ],
   "source": [
    "def train(net):\n",
    "    # training params\n",
    "\n",
    "    epochs = 10 # 3-4 is approx where I noticed the validation loss stop decreasing\n",
    "\n",
    "    counter = 0\n",
    "    print_every = 100\n",
    "    clip=5 # gradient clipping\n",
    "    best_loss = np.inf\n",
    "    \n",
    "    # move model to GPU, if available\n",
    "    if(train_on_gpu):\n",
    "        net.cuda()\n",
    "\n",
    "    net.train()\n",
    "    # train for some number of epochs\n",
    "    for e in range(epochs):\n",
    "        # initialize hidden state\n",
    "        h = net.init_hidden(batch_size)\n",
    "\n",
    "        # batch loop\n",
    "        for inputs, labels, authors in train_loader:\n",
    "            counter += 1\n",
    "\n",
    "            if(train_on_gpu):\n",
    "                inputs, labels, authors = inputs.cuda(), labels.cuda(), authors.cuda()\n",
    "\n",
    "            # Creating new variables for the hidden state, otherwise\n",
    "            # we'd backprop through the entire training history\n",
    "            h = tuple([each.data for each in h])\n",
    "\n",
    "            # zero accumulated gradients\n",
    "            net.zero_grad()\n",
    "\n",
    "            # get the output from the model\n",
    "            output, h = net(inputs, h, authors)\n",
    "\n",
    "            # calculate the loss and perform backprop\n",
    "            loss = criterion(output.squeeze(), labels)\n",
    "            loss.backward()\n",
    "            # `clip_grad_norm` helps prevent the exploding gradient problem in RNNs / LSTMs.\n",
    "            nn.utils.clip_grad_norm_(net.parameters(), clip)\n",
    "            optimizer.step()\n",
    "\n",
    "            # loss stats\n",
    "            if counter % print_every == 0:\n",
    "                # Get validation loss\n",
    "                val_h = net.init_hidden(batch_size)\n",
    "                val_losses = []\n",
    "                net.eval()\n",
    "                for inputs, labels, authors in valid_loader:\n",
    "\n",
    "                    # Creating new variables for the hidden state, otherwise\n",
    "                    # we'd backprop through the entire training history\n",
    "                    val_h = tuple([each.data for each in val_h])\n",
    "\n",
    "                    if(train_on_gpu):\n",
    "                        inputs, labels, authors = inputs.cuda(), labels.cuda(), authors.cuda()\n",
    "\n",
    "                    output, val_h = net(inputs, val_h, authors)\n",
    "                    val_loss = criterion(output.squeeze(), labels)\n",
    "\n",
    "                    val_losses.append(val_loss.item())\n",
    "\n",
    "                net.train()\n",
    "                print(\"Epoch: {}/{}...\".format(e+1, epochs),\n",
    "                      \"Step: {}...\".format(counter),\n",
    "                      \"Loss: {:.6f}...\".format(loss.item()),\n",
    "                      \"Val Loss: {:.6f}\".format(np.mean(val_losses)))\n",
    "\n",
    "                if np.mean(val_losses) < best_loss:\n",
    "                    print(\"Val loss improved to {:.6f}. Saving model...\".format(np.mean(val_losses)))\n",
    "                    best_loss = np.mean(val_losses)\n",
    "\n",
    "                    save_model(net)\n",
    "                    #net.load_state_dict(torch.load(\"data/lstm_best.pth\"))\n",
    "                    \n",
    "    return net\n",
    "\n",
    "best_net = train(net)"
   ]
  },
  {
   "cell_type": "markdown",
   "metadata": {},
   "source": [
    "---\n",
    "## Testing\n",
    "\n",
    "There are a few ways to test your network.\n",
    "\n",
    "* **Test data performance:** First, we'll see how our trained model performs on all of our defined test_data, above. We'll calculate the average loss and accuracy over the test data.\n",
    "\n",
    "* **Inference on user-generated data:** Second, we'll see if we can input just one example review at a time (without a label), and see what the trained model predicts. Looking at new, user input data like this, and predicting an output label, is called **inference**."
   ]
  },
  {
   "cell_type": "code",
   "execution_count": 226,
   "metadata": {},
   "outputs": [
    {
     "name": "stdout",
     "output_type": "stream",
     "text": [
      "Test loss: 4.587\n",
      "Test accuracy: 0.251\n"
     ]
    }
   ],
   "source": [
    "# Get test data loss and accuracy\n",
    "\n",
    "test_losses = [] # track loss\n",
    "num_correct = 0\n",
    "\n",
    "# init hidden state\n",
    "h = best_net.init_hidden(batch_size)\n",
    "\n",
    "best_net.eval()\n",
    "# iterate over test data\n",
    "for inputs, labels, authors in test_loader:\n",
    "\n",
    "    # Creating new variables for the hidden state, otherwise\n",
    "    # we'd backprop through the entire training history\n",
    "    h = tuple([each.data for each in h])\n",
    "\n",
    "    if(train_on_gpu):\n",
    "        inputs, labels, authors = inputs.cuda(), labels.cuda(), authors.cuda()\n",
    "    \n",
    "    # get predicted outputs\n",
    "    output, h = best_net(inputs, h, authors)\n",
    "    \n",
    "    # calculate loss\n",
    "    test_loss = criterion(output.squeeze(), labels)\n",
    "    test_losses.append(test_loss.item())\n",
    "    \n",
    "    # convert output probabilities to predicted class (0 or 1)\n",
    "    predicted, idx = torch.topk(output, 1)\n",
    "\n",
    "    # compare predictions to true label\n",
    "    correct_tensor = idx.eq(labels.view_as(idx))\n",
    "    correct = np.squeeze(correct_tensor.numpy()) if not train_on_gpu else np.squeeze(correct_tensor.cpu().numpy())\n",
    "    num_correct += np.sum(correct)\n",
    "\n",
    "\n",
    "# -- stats! -- ##\n",
    "# avg test loss\n",
    "print(\"Test loss: {:.3f}\".format(np.mean(test_losses)))\n",
    "\n",
    "# accuracy over all test data\n",
    "test_acc = num_correct/len(test_loader.dataset)\n",
    "print(\"Test accuracy: {:.3f}\".format(test_acc))"
   ]
  },
  {
   "cell_type": "markdown",
   "metadata": {},
   "source": [
    "### Inference on a test review\n",
    "\n",
    "You can change this test_review to any text that you want. Read it and think: is it pos or neg? Then see if your model predicts correctly!\n",
    "    \n",
    "> **Exercise:** Write a `predict` function that takes in a trained net, a plain text_review, and a sequence length, and prints out a custom statement for a positive or negative review!\n",
    "* You can use any functions that you've already defined or define any helper functions you want to complete `predict`, but it should just take in a trained net, a text review, and a sequence length.\n"
   ]
  },
  {
   "cell_type": "code",
   "execution_count": 227,
   "metadata": {},
   "outputs": [],
   "source": [
    "# negative test review\n",
    "test_review_neg = 'The worst movie I have seen; acting was terrible and I want my money back. This movie had bad acting and the dialogue was slow.'\n"
   ]
  },
  {
   "cell_type": "code",
   "execution_count": 228,
   "metadata": {},
   "outputs": [
    {
     "name": "stdout",
     "output_type": "stream",
     "text": [
      "[[3, 805, 201, 1, 16, 409, 2217, 26, 1300, 6, 1, 76, 5, 358, 55, 30, 201, 64, 118, 2217, 6, 3, 43882, 26, 753]]\n"
     ]
    }
   ],
   "source": [
    "from string import punctuation\n",
    "\n",
    "def tokenize_review(test_review):\n",
    "    test_review = test_review.lower() # lowercase\n",
    "    # get rid of punctuation\n",
    "    test_text = ''.join([c for c in test_review if c not in punctuation])\n",
    "\n",
    "    # splitting by spaces\n",
    "    test_words = test_text.split()\n",
    "\n",
    "    # tokens\n",
    "    test_ints = []\n",
    "    test_ints.append([vocab_to_int[word] for word in test_words])\n",
    "\n",
    "    return test_ints\n",
    "\n",
    "# test code and generate tokenized review\n",
    "test_ints = tokenize_review(test_review_neg)\n",
    "print(test_ints)"
   ]
  },
  {
   "cell_type": "code",
   "execution_count": 229,
   "metadata": {},
   "outputs": [
    {
     "name": "stdout",
     "output_type": "stream",
     "text": [
      "[[    0     0     0     0     0     0     0     0     0     0     3   805\n",
      "    201     1    16   409  2217    26  1300     6     1    76     5   358\n",
      "     55    30   201    64   118  2217     6     3 43882    26   753]]\n"
     ]
    }
   ],
   "source": [
    "# test sequence padding\n",
    "seq_length=35\n",
    "features = pad_features(test_ints, seq_length)\n",
    "\n",
    "print(features)"
   ]
  },
  {
   "cell_type": "code",
   "execution_count": 230,
   "metadata": {},
   "outputs": [
    {
     "name": "stdout",
     "output_type": "stream",
     "text": [
      "torch.Size([1, 35])\n"
     ]
    }
   ],
   "source": [
    "# test conversion to tensor and pass into your model\n",
    "feature_tensor = torch.from_numpy(features)\n",
    "print(feature_tensor.size())"
   ]
  },
  {
   "cell_type": "code",
   "execution_count": 231,
   "metadata": {},
   "outputs": [],
   "source": [
    "def predict(net, test_review, author, sequence_length=200):\n",
    "    \n",
    "    net.eval()\n",
    "    \n",
    "    # tokenize review\n",
    "    test_ints = tokenize_review(test_review)\n",
    "    \n",
    "    try:\n",
    "        test_auth = vocab_to_int_auth[author]\n",
    "    except:\n",
    "        test_auth = vocab_to_int_auth[\"None\"]\n",
    "        \n",
    "    # pad tokenized sequence\n",
    "    seq_length=sequence_length\n",
    "    features = pad_features(test_ints, seq_length)\n",
    "        \n",
    "    # convert to tensor to pass into your model\n",
    "    feature_tensor = torch.from_numpy(features)\n",
    "    author_tensor = torch.tensor(test_auth)\n",
    "\n",
    "    batch_size = feature_tensor.size(0)\n",
    "    \n",
    "    # initialize hidden state\n",
    "    h = net.init_hidden(batch_size)\n",
    "    \n",
    "    if(train_on_gpu):\n",
    "        feature_tensor = feature_tensor.cuda()\n",
    "        author_tensor = author_tensor.cuda()\n",
    "    \n",
    "    # get the output from the model\n",
    "    output, h = net(feature_tensor, h, author_tensor)\n",
    "    \n",
    "    # convert output probabilities to predicted class (0 or 1)\n",
    "    pred = torch.round(output.squeeze()) \n",
    "    # printing output value, before rounding\n",
    "    val, idx = torch.topk(output, 1)\n",
    "    \n",
    "    idx = idx.cpu().numpy()[0][0]\n",
    "\n",
    "    print('Prediction: {} '.format(int_to_label[idx]))\n",
    "    print(\"Prediction value: {:.6f}\".format(val.detach().cpu().numpy()[0][0]))\n",
    "        "
   ]
  },
  {
   "cell_type": "code",
   "execution_count": 232,
   "metadata": {},
   "outputs": [],
   "source": [
    "# positive test review\n",
    "test_review_pos = \"hello there asshole\"\n",
    "author = \"tiffanylue\""
   ]
  },
  {
   "cell_type": "code",
   "execution_count": 233,
   "metadata": {},
   "outputs": [
    {
     "name": "stdout",
     "output_type": "stream",
     "text": [
      "Prediction: neutral \n",
      "Prediction value: -0.001026\n"
     ]
    }
   ],
   "source": [
    "# call function\n",
    "seq_length=35 # good to use the length that was trained on\n",
    "\n",
    "predict(best_net, test_review_pos, author, seq_length)"
   ]
  },
  {
   "cell_type": "markdown",
   "metadata": {},
   "source": [
    "### Try out test_reviews of your own!\n",
    "\n",
    "Now that you have a trained model and a predict function, you can pass in _any_ kind of text and this model will predict whether the text has a positive or negative sentiment. Push this model to its limits and try to find what words it associates with positive or negative.\n",
    "\n",
    "Later, you'll learn how to deploy a model like this to a production environment so that it can respond to any kind of user data put into a web app!"
   ]
  },
  {
   "cell_type": "code",
   "execution_count": null,
   "metadata": {},
   "outputs": [],
   "source": []
  }
 ],
 "metadata": {
  "kernelspec": {
   "display_name": "pytorch",
   "language": "python",
   "name": "pytorch"
  },
  "language_info": {
   "codemirror_mode": {
    "name": "ipython",
    "version": 3
   },
   "file_extension": ".py",
   "mimetype": "text/x-python",
   "name": "python",
   "nbconvert_exporter": "python",
   "pygments_lexer": "ipython3",
   "version": "3.8.3"
  }
 },
 "nbformat": 4,
 "nbformat_minor": 2
}
