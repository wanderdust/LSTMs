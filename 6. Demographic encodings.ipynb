{
 "cells": [
  {
   "cell_type": "markdown",
   "metadata": {},
   "source": [
    "# Encode"
   ]
  },
  {
   "cell_type": "code",
   "execution_count": 883,
   "metadata": {},
   "outputs": [],
   "source": [
    "import pandas as pd\n",
    "import numpy as np"
   ]
  },
  {
   "cell_type": "code",
   "execution_count": 884,
   "metadata": {},
   "outputs": [
    {
     "data": {
      "text/html": [
       "<div>\n",
       "<style scoped>\n",
       "    .dataframe tbody tr th:only-of-type {\n",
       "        vertical-align: middle;\n",
       "    }\n",
       "\n",
       "    .dataframe tbody tr th {\n",
       "        vertical-align: top;\n",
       "    }\n",
       "\n",
       "    .dataframe thead th {\n",
       "        text-align: right;\n",
       "    }\n",
       "</style>\n",
       "<table border=\"1\" class=\"dataframe\">\n",
       "  <thead>\n",
       "    <tr style=\"text-align: right;\">\n",
       "      <th></th>\n",
       "      <th>Name</th>\n",
       "      <th>Age</th>\n",
       "      <th>Job</th>\n",
       "      <th>Hobbies</th>\n",
       "    </tr>\n",
       "  </thead>\n",
       "  <tbody>\n",
       "    <tr>\n",
       "      <th>0</th>\n",
       "      <td>John Doe</td>\n",
       "      <td>1994</td>\n",
       "      <td>Marketing</td>\n",
       "      <td>football, tennis</td>\n",
       "    </tr>\n",
       "    <tr>\n",
       "      <th>1</th>\n",
       "      <td>Jane Doe</td>\n",
       "      <td>1988</td>\n",
       "      <td>Sales</td>\n",
       "      <td>Art</td>\n",
       "    </tr>\n",
       "    <tr>\n",
       "      <th>2</th>\n",
       "      <td>Mary</td>\n",
       "      <td>1990</td>\n",
       "      <td>Data science</td>\n",
       "      <td>Reading</td>\n",
       "    </tr>\n",
       "    <tr>\n",
       "      <th>3</th>\n",
       "      <td>John Doe</td>\n",
       "      <td>1990</td>\n",
       "      <td>Marketing</td>\n",
       "      <td>football, tennis</td>\n",
       "    </tr>\n",
       "    <tr>\n",
       "      <th>4</th>\n",
       "      <td>Jane Doe</td>\n",
       "      <td>1990</td>\n",
       "      <td>Sales</td>\n",
       "      <td>Art</td>\n",
       "    </tr>\n",
       "  </tbody>\n",
       "</table>\n",
       "</div>"
      ],
      "text/plain": [
       "       Name   Age           Job           Hobbies\n",
       "0  John Doe  1994     Marketing  football, tennis\n",
       "1  Jane Doe  1988         Sales               Art\n",
       "2      Mary  1990  Data science           Reading\n",
       "3  John Doe  1990     Marketing  football, tennis\n",
       "4  Jane Doe  1990         Sales               Art"
      ]
     },
     "execution_count": 884,
     "metadata": {},
     "output_type": "execute_result"
    }
   ],
   "source": [
    "df = pd.read_csv(\"data/Mock-Demographics.csv\")\n",
    "df.head()"
   ]
  },
  {
   "cell_type": "markdown",
   "metadata": {},
   "source": [
    "**Drop name because we don't need it**"
   ]
  },
  {
   "cell_type": "code",
   "execution_count": 885,
   "metadata": {},
   "outputs": [],
   "source": [
    "df = df.drop(\"Name\", axis=1)"
   ]
  },
  {
   "cell_type": "markdown",
   "metadata": {},
   "source": [
    "**Convert all strings to lowercase**"
   ]
  },
  {
   "cell_type": "code",
   "execution_count": 886,
   "metadata": {},
   "outputs": [
    {
     "data": {
      "text/html": [
       "<div>\n",
       "<style scoped>\n",
       "    .dataframe tbody tr th:only-of-type {\n",
       "        vertical-align: middle;\n",
       "    }\n",
       "\n",
       "    .dataframe tbody tr th {\n",
       "        vertical-align: top;\n",
       "    }\n",
       "\n",
       "    .dataframe thead th {\n",
       "        text-align: right;\n",
       "    }\n",
       "</style>\n",
       "<table border=\"1\" class=\"dataframe\">\n",
       "  <thead>\n",
       "    <tr style=\"text-align: right;\">\n",
       "      <th></th>\n",
       "      <th>Age</th>\n",
       "      <th>Job</th>\n",
       "      <th>Hobbies</th>\n",
       "    </tr>\n",
       "  </thead>\n",
       "  <tbody>\n",
       "    <tr>\n",
       "      <th>0</th>\n",
       "      <td>1994</td>\n",
       "      <td>marketing</td>\n",
       "      <td>football, tennis</td>\n",
       "    </tr>\n",
       "    <tr>\n",
       "      <th>1</th>\n",
       "      <td>1988</td>\n",
       "      <td>sales</td>\n",
       "      <td>art</td>\n",
       "    </tr>\n",
       "    <tr>\n",
       "      <th>2</th>\n",
       "      <td>1990</td>\n",
       "      <td>data science</td>\n",
       "      <td>reading</td>\n",
       "    </tr>\n",
       "    <tr>\n",
       "      <th>3</th>\n",
       "      <td>1990</td>\n",
       "      <td>marketing</td>\n",
       "      <td>football, tennis</td>\n",
       "    </tr>\n",
       "    <tr>\n",
       "      <th>4</th>\n",
       "      <td>1990</td>\n",
       "      <td>sales</td>\n",
       "      <td>art</td>\n",
       "    </tr>\n",
       "  </tbody>\n",
       "</table>\n",
       "</div>"
      ],
      "text/plain": [
       "    Age           Job           Hobbies\n",
       "0  1994     marketing  football, tennis\n",
       "1  1988         sales               art\n",
       "2  1990  data science           reading\n",
       "3  1990     marketing  football, tennis\n",
       "4  1990         sales               art"
      ]
     },
     "execution_count": 886,
     "metadata": {},
     "output_type": "execute_result"
    }
   ],
   "source": [
    "#df[\"Name\"] = df[\"Name\"].str.lower()\n",
    "df[\"Job\"] = df[\"Job\"].str.lower()\n",
    "df[\"Hobbies\"] = df[\"Hobbies\"].str.lower()\n",
    "\n",
    "df.head()"
   ]
  },
  {
   "cell_type": "markdown",
   "metadata": {},
   "source": [
    "**Expand Hobbies into 2 columns**"
   ]
  },
  {
   "cell_type": "code",
   "execution_count": 887,
   "metadata": {},
   "outputs": [],
   "source": [
    "df[[\"Hobby1\", \"Hobby2\"]] = df.Hobbies.str.split(\", \", expand=True,)\n",
    "df = df.drop(\"Hobbies\", axis=1)"
   ]
  },
  {
   "cell_type": "markdown",
   "metadata": {},
   "source": [
    "### Create dictionaries of name to int"
   ]
  },
  {
   "cell_type": "markdown",
   "metadata": {},
   "source": [
    "**Encoder decoder**\n",
    "\n",
    "This object keeps track of the position of each column in the vector and its length"
   ]
  },
  {
   "cell_type": "code",
   "execution_count": 888,
   "metadata": {},
   "outputs": [],
   "source": [
    "encoder_decoder = {}"
   ]
  },
  {
   "cell_type": "markdown",
   "metadata": {},
   "source": [
    "**Age**"
   ]
  },
  {
   "cell_type": "code",
   "execution_count": 889,
   "metadata": {},
   "outputs": [
    {
     "name": "stdout",
     "output_type": "stream",
     "text": [
      "Int64Index([1990, 1994, 1988], dtype='int64')\n"
     ]
    }
   ],
   "source": [
    "ages = df['Age'].value_counts().index\n",
    "print(ages)"
   ]
  },
  {
   "cell_type": "code",
   "execution_count": 890,
   "metadata": {},
   "outputs": [
    {
     "name": "stdout",
     "output_type": "stream",
     "text": [
      "{1990: 1, 1994: 2, 1988: 3}\n"
     ]
    }
   ],
   "source": [
    "age_2_int = {age: i for i,age in enumerate(ages, start=1)}\n",
    "int_2_age = {v: k for k, v in age_2_int.items()}\n",
    "\n",
    "print(age_2_int)"
   ]
  },
  {
   "cell_type": "code",
   "execution_count": 891,
   "metadata": {},
   "outputs": [
    {
     "name": "stdout",
     "output_type": "stream",
     "text": [
      "{'Age': {'length': 3, 'position': 0, 'int_2_name': {1: 1990, 2: 1994, 3: 1988}}}\n"
     ]
    }
   ],
   "source": [
    "encoder_decoder[\"Age\"] = {\n",
    "    \"length\": len(age_2_int),\n",
    "    \"position\": df.columns.get_loc(\"Age\"),\n",
    "    \"int_2_name\": int_2_age\n",
    "}\n",
    "\n",
    "print(encoder_decoder)"
   ]
  },
  {
   "cell_type": "markdown",
   "metadata": {},
   "source": [
    "**Job**"
   ]
  },
  {
   "cell_type": "code",
   "execution_count": 892,
   "metadata": {},
   "outputs": [
    {
     "name": "stdout",
     "output_type": "stream",
     "text": [
      "Index(['sales', 'marketing', 'data science'], dtype='object')\n"
     ]
    }
   ],
   "source": [
    "jobs = df['Job'].value_counts().index\n",
    "print(jobs)"
   ]
  },
  {
   "cell_type": "code",
   "execution_count": 893,
   "metadata": {},
   "outputs": [
    {
     "name": "stdout",
     "output_type": "stream",
     "text": [
      "{'sales': 1, 'marketing': 2, 'data science': 3}\n"
     ]
    }
   ],
   "source": [
    "job_2_int = {job: i for i,job in enumerate(jobs, start=1)}\n",
    "int_2_job = {v: k for k, v in job_2_int.items()}\n",
    "\n",
    "print(job_2_int)"
   ]
  },
  {
   "cell_type": "code",
   "execution_count": 894,
   "metadata": {},
   "outputs": [
    {
     "name": "stdout",
     "output_type": "stream",
     "text": [
      "{'Age': {'length': 3, 'position': 0, 'int_2_name': {1: 1990, 2: 1994, 3: 1988}}, 'Job': {'length': 3, 'position': 1, 'int_2_name': {1: 'sales', 2: 'marketing', 3: 'data science'}}}\n"
     ]
    }
   ],
   "source": [
    "encoder_decoder[\"Job\"] = {\n",
    "    \"length\": len(job_2_int),\n",
    "    \"position\": df.columns.get_loc(\"Job\"),\n",
    "    \"int_2_name\": int_2_job\n",
    "}\n",
    "\n",
    "print(encoder_decoder)"
   ]
  },
  {
   "cell_type": "markdown",
   "metadata": {},
   "source": [
    "**Hobbies**"
   ]
  },
  {
   "cell_type": "code",
   "execution_count": 895,
   "metadata": {},
   "outputs": [
    {
     "name": "stdout",
     "output_type": "stream",
     "text": [
      "Index(['football', 'art', 'reading', 'tennis'], dtype='object')\n"
     ]
    }
   ],
   "source": [
    "hobbies1 = df['Hobby1'].value_counts().index\n",
    "hobbies2 = df['Hobby2'].value_counts().index\n",
    "\n",
    "all_hobbies = hobbies1.append(hobbies2)\n",
    "\n",
    "print(all_hobbies)"
   ]
  },
  {
   "cell_type": "code",
   "execution_count": 896,
   "metadata": {},
   "outputs": [
    {
     "name": "stdout",
     "output_type": "stream",
     "text": [
      "{'football': 1, 'art': 2, 'reading': 3, 'tennis': 4}\n"
     ]
    }
   ],
   "source": [
    "hobby_2_int = {hobby: i for i,hobby in enumerate(all_hobbies, start=1)}\n",
    "int_2_hobby = {v: k for k, v in hobby_2_int.items()}\n",
    "\n",
    "print(hobby_2_int)"
   ]
  },
  {
   "cell_type": "code",
   "execution_count": 897,
   "metadata": {},
   "outputs": [
    {
     "name": "stdout",
     "output_type": "stream",
     "text": [
      "{'Age': {'length': 3, 'position': 0, 'int_2_name': {1: 1990, 2: 1994, 3: 1988}}, 'Job': {'length': 3, 'position': 1, 'int_2_name': {1: 'sales', 2: 'marketing', 3: 'data science'}}, 'Hobby1': {'length': 4, 'position': 2, 'int_2_name': {1: 'football', 2: 'art', 3: 'reading', 4: 'tennis'}}}\n"
     ]
    }
   ],
   "source": [
    "encoder_decoder[\"Hobby1\"] = {\n",
    "    \"length\": len(int_2_hobby),\n",
    "    \"position\": df.columns.get_loc(\"Hobby1\"),\n",
    "    \"int_2_name\": int_2_hobby\n",
    "}\n",
    "\n",
    "print(encoder_decoder)"
   ]
  },
  {
   "cell_type": "code",
   "execution_count": 898,
   "metadata": {},
   "outputs": [
    {
     "name": "stdout",
     "output_type": "stream",
     "text": [
      "{'Age': {'length': 3, 'position': 0, 'int_2_name': {1: 1990, 2: 1994, 3: 1988}}, 'Job': {'length': 3, 'position': 1, 'int_2_name': {1: 'sales', 2: 'marketing', 3: 'data science'}}, 'Hobby1': {'length': 4, 'position': 2, 'int_2_name': {1: 'football', 2: 'art', 3: 'reading', 4: 'tennis'}}, 'Hobby2': {'length': 4, 'position': 3, 'int_2_name': {1: 'football', 2: 'art', 3: 'reading', 4: 'tennis'}}}\n"
     ]
    }
   ],
   "source": [
    "encoder_decoder[\"Hobby2\"] = {\n",
    "    \"length\": len(int_2_hobby),\n",
    "    \"position\": df.columns.get_loc(\"Hobby2\"),\n",
    "    \"int_2_name\": int_2_hobby\n",
    "}\n",
    "\n",
    "print(encoder_decoder)"
   ]
  },
  {
   "cell_type": "markdown",
   "metadata": {},
   "source": [
    "### Encode the columns"
   ]
  },
  {
   "cell_type": "code",
   "execution_count": 899,
   "metadata": {},
   "outputs": [
    {
     "name": "stdout",
     "output_type": "stream",
     "text": [
      "{'Age': {1990: 1, 1994: 2, 1988: 3}, 'Job': {'sales': 1, 'marketing': 2, 'data science': 3}, 'Hobby1': {'football': 1, 'art': 2, 'reading': 3, 'tennis': 4}, 'Hobby2': {'football': 1, 'art': 2, 'reading': 3, 'tennis': 4}}\n"
     ]
    }
   ],
   "source": [
    "encoded_items = {\n",
    "    \"Age\" : age_2_int,\n",
    "    \"Job\" : job_2_int,\n",
    "    \"Hobby1\" : hobby_2_int,\n",
    "    \"Hobby2\" : hobby_2_int\n",
    "}\n",
    "\n",
    "print(encoded_items)"
   ]
  },
  {
   "cell_type": "code",
   "execution_count": 900,
   "metadata": {},
   "outputs": [],
   "source": [
    "df = df.replace(encoded_items)"
   ]
  },
  {
   "cell_type": "code",
   "execution_count": 901,
   "metadata": {},
   "outputs": [
    {
     "data": {
      "text/html": [
       "<div>\n",
       "<style scoped>\n",
       "    .dataframe tbody tr th:only-of-type {\n",
       "        vertical-align: middle;\n",
       "    }\n",
       "\n",
       "    .dataframe tbody tr th {\n",
       "        vertical-align: top;\n",
       "    }\n",
       "\n",
       "    .dataframe thead th {\n",
       "        text-align: right;\n",
       "    }\n",
       "</style>\n",
       "<table border=\"1\" class=\"dataframe\">\n",
       "  <thead>\n",
       "    <tr style=\"text-align: right;\">\n",
       "      <th></th>\n",
       "      <th>Age</th>\n",
       "      <th>Job</th>\n",
       "      <th>Hobby1</th>\n",
       "      <th>Hobby2</th>\n",
       "    </tr>\n",
       "  </thead>\n",
       "  <tbody>\n",
       "    <tr>\n",
       "      <th>0</th>\n",
       "      <td>2</td>\n",
       "      <td>2</td>\n",
       "      <td>1</td>\n",
       "      <td>4.0</td>\n",
       "    </tr>\n",
       "    <tr>\n",
       "      <th>1</th>\n",
       "      <td>3</td>\n",
       "      <td>1</td>\n",
       "      <td>2</td>\n",
       "      <td>NaN</td>\n",
       "    </tr>\n",
       "    <tr>\n",
       "      <th>2</th>\n",
       "      <td>1</td>\n",
       "      <td>3</td>\n",
       "      <td>3</td>\n",
       "      <td>NaN</td>\n",
       "    </tr>\n",
       "    <tr>\n",
       "      <th>3</th>\n",
       "      <td>1</td>\n",
       "      <td>2</td>\n",
       "      <td>1</td>\n",
       "      <td>4.0</td>\n",
       "    </tr>\n",
       "    <tr>\n",
       "      <th>4</th>\n",
       "      <td>1</td>\n",
       "      <td>1</td>\n",
       "      <td>2</td>\n",
       "      <td>NaN</td>\n",
       "    </tr>\n",
       "  </tbody>\n",
       "</table>\n",
       "</div>"
      ],
      "text/plain": [
       "   Age  Job  Hobby1  Hobby2\n",
       "0    2    2       1     4.0\n",
       "1    3    1       2     NaN\n",
       "2    1    3       3     NaN\n",
       "3    1    2       1     4.0\n",
       "4    1    1       2     NaN"
      ]
     },
     "execution_count": 901,
     "metadata": {},
     "output_type": "execute_result"
    }
   ],
   "source": [
    "df.head()"
   ]
  },
  {
   "cell_type": "markdown",
   "metadata": {},
   "source": [
    "**Fill NaN with 0's**"
   ]
  },
  {
   "cell_type": "code",
   "execution_count": 902,
   "metadata": {},
   "outputs": [
    {
     "name": "stdout",
     "output_type": "stream",
     "text": [
      "Age       int64\n",
      "Job       int64\n",
      "Hobby1    int64\n",
      "Hobby2    int64\n",
      "dtype: object\n"
     ]
    },
    {
     "data": {
      "text/html": [
       "<div>\n",
       "<style scoped>\n",
       "    .dataframe tbody tr th:only-of-type {\n",
       "        vertical-align: middle;\n",
       "    }\n",
       "\n",
       "    .dataframe tbody tr th {\n",
       "        vertical-align: top;\n",
       "    }\n",
       "\n",
       "    .dataframe thead th {\n",
       "        text-align: right;\n",
       "    }\n",
       "</style>\n",
       "<table border=\"1\" class=\"dataframe\">\n",
       "  <thead>\n",
       "    <tr style=\"text-align: right;\">\n",
       "      <th></th>\n",
       "      <th>Age</th>\n",
       "      <th>Job</th>\n",
       "      <th>Hobby1</th>\n",
       "      <th>Hobby2</th>\n",
       "    </tr>\n",
       "  </thead>\n",
       "  <tbody>\n",
       "    <tr>\n",
       "      <th>0</th>\n",
       "      <td>2</td>\n",
       "      <td>2</td>\n",
       "      <td>1</td>\n",
       "      <td>4.0</td>\n",
       "    </tr>\n",
       "    <tr>\n",
       "      <th>1</th>\n",
       "      <td>3</td>\n",
       "      <td>1</td>\n",
       "      <td>2</td>\n",
       "      <td>0.0</td>\n",
       "    </tr>\n",
       "    <tr>\n",
       "      <th>2</th>\n",
       "      <td>1</td>\n",
       "      <td>3</td>\n",
       "      <td>3</td>\n",
       "      <td>0.0</td>\n",
       "    </tr>\n",
       "    <tr>\n",
       "      <th>3</th>\n",
       "      <td>1</td>\n",
       "      <td>2</td>\n",
       "      <td>1</td>\n",
       "      <td>4.0</td>\n",
       "    </tr>\n",
       "    <tr>\n",
       "      <th>4</th>\n",
       "      <td>1</td>\n",
       "      <td>1</td>\n",
       "      <td>2</td>\n",
       "      <td>0.0</td>\n",
       "    </tr>\n",
       "  </tbody>\n",
       "</table>\n",
       "</div>"
      ],
      "text/plain": [
       "   Age  Job  Hobby1  Hobby2\n",
       "0    2    2       1     4.0\n",
       "1    3    1       2     0.0\n",
       "2    1    3       3     0.0\n",
       "3    1    2       1     4.0\n",
       "4    1    1       2     0.0"
      ]
     },
     "execution_count": 902,
     "metadata": {},
     "output_type": "execute_result"
    }
   ],
   "source": [
    "df = df.fillna(0)\n",
    "print(df.astype(int).dtypes)\n",
    "df.head()"
   ]
  },
  {
   "cell_type": "markdown",
   "metadata": {},
   "source": [
    "**One hot encoding**"
   ]
  },
  {
   "cell_type": "code",
   "execution_count": 903,
   "metadata": {},
   "outputs": [
    {
     "data": {
      "text/plain": [
       "'\\nage_dummies = pd.get_dummies(df[\"Age\"], prefix=\"Age_\")\\n\\njob_dummies = pd.get_dummies(df[\"Job\"], prefix=\"Job_\")\\n\\nhobby1_dummies = pd.get_dummies(df[\"Hobby1\"], prefix=\"Hobby1_\")\\n\\nhobby2_dummies = pd.get_dummies(df[\"Hobby2\"], prefix=\"Hobby2_\")\\n\\ndf = pd.concat([df, age_dummies,job_dummies, hobby1_dummies,hobby2_dummies], axis=1)\\n\\n\\n## Drop the original columns\\ndf = df.drop([\"Age\", \"Job\", \"Hobby1\", \"Hobby2\"], axis=1)\\n\\ndf.head()\\n'"
      ]
     },
     "execution_count": 903,
     "metadata": {},
     "output_type": "execute_result"
    }
   ],
   "source": [
    "\"\"\"\n",
    "age_dummies = pd.get_dummies(df[\"Age\"], prefix=\"Age_\")\n",
    "\n",
    "job_dummies = pd.get_dummies(df[\"Job\"], prefix=\"Job_\")\n",
    "\n",
    "hobby1_dummies = pd.get_dummies(df[\"Hobby1\"], prefix=\"Hobby1_\")\n",
    "\n",
    "hobby2_dummies = pd.get_dummies(df[\"Hobby2\"], prefix=\"Hobby2_\")\n",
    "\n",
    "df = pd.concat([df, age_dummies,job_dummies, hobby1_dummies,hobby2_dummies], axis=1)\n",
    "\n",
    "\n",
    "## Drop the original columns\n",
    "df = df.drop([\"Age\", \"Job\", \"Hobby1\", \"Hobby2\"], axis=1)\n",
    "\n",
    "df.head()\n",
    "\"\"\""
   ]
  },
  {
   "cell_type": "code",
   "execution_count": 904,
   "metadata": {},
   "outputs": [],
   "source": [
    "numpy_data = df.to_numpy(dtype=int)"
   ]
  },
  {
   "cell_type": "markdown",
   "metadata": {},
   "source": [
    "\""
   ]
  },
  {
   "cell_type": "markdown",
   "metadata": {},
   "source": [
    "# Decode"
   ]
  },
  {
   "cell_type": "markdown",
   "metadata": {},
   "source": [
    "Lets decode 1 element"
   ]
  },
  {
   "cell_type": "code",
   "execution_count": 905,
   "metadata": {},
   "outputs": [],
   "source": [
    "vector = numpy_data[0]"
   ]
  },
  {
   "cell_type": "code",
   "execution_count": 906,
   "metadata": {},
   "outputs": [
    {
     "data": {
      "text/plain": [
       "array([2, 2, 1, 4])"
      ]
     },
     "execution_count": 906,
     "metadata": {},
     "output_type": "execute_result"
    }
   ],
   "source": [
    "vector"
   ]
  },
  {
   "cell_type": "markdown",
   "metadata": {},
   "source": [
    "**Decode**"
   ]
  },
  {
   "cell_type": "code",
   "execution_count": 907,
   "metadata": {},
   "outputs": [
    {
     "data": {
      "text/html": [
       "<div>\n",
       "<style scoped>\n",
       "    .dataframe tbody tr th:only-of-type {\n",
       "        vertical-align: middle;\n",
       "    }\n",
       "\n",
       "    .dataframe tbody tr th {\n",
       "        vertical-align: top;\n",
       "    }\n",
       "\n",
       "    .dataframe thead th {\n",
       "        text-align: right;\n",
       "    }\n",
       "</style>\n",
       "<table border=\"1\" class=\"dataframe\">\n",
       "  <thead>\n",
       "    <tr style=\"text-align: right;\">\n",
       "      <th></th>\n",
       "      <th>Age</th>\n",
       "      <th>Job</th>\n",
       "      <th>Hobby1</th>\n",
       "      <th>Hobby2</th>\n",
       "    </tr>\n",
       "  </thead>\n",
       "  <tbody>\n",
       "  </tbody>\n",
       "</table>\n",
       "</div>"
      ],
      "text/plain": [
       "Empty DataFrame\n",
       "Columns: [Age, Job, Hobby1, Hobby2]\n",
       "Index: []"
      ]
     },
     "execution_count": 907,
     "metadata": {},
     "output_type": "execute_result"
    }
   ],
   "source": [
    "pd.DataFrame(columns = [\"Age\", \"Job\", \"Hobby1\", \"Hobby2\"])"
   ]
  },
  {
   "cell_type": "code",
   "execution_count": 908,
   "metadata": {},
   "outputs": [],
   "source": [
    "age_encoded = vector[encoder_decoder[\"Age\"][\"position\"]]\n",
    "age_decoded = encoder_decoder[\"Age\"][\"int_2_name\"][age_encoded]"
   ]
  },
  {
   "cell_type": "code",
   "execution_count": 909,
   "metadata": {},
   "outputs": [],
   "source": [
    "job_encoded = vector[encoder_decoder[\"Job\"][\"position\"]]\n",
    "job_decoded = encoder_decoder[\"Job\"][\"int_2_name\"][job_encoded]"
   ]
  },
  {
   "cell_type": "code",
   "execution_count": 910,
   "metadata": {},
   "outputs": [],
   "source": [
    "hobby1_encoded = vector[encoder_decoder[\"Hobby1\"][\"position\"]]\n",
    "hobby1_decoded = encoder_decoder[\"Hobby1\"][\"int_2_name\"][hobby1_encoded]"
   ]
  },
  {
   "cell_type": "code",
   "execution_count": 911,
   "metadata": {},
   "outputs": [],
   "source": [
    "hobby2_encoded = vector[encoder_decoder[\"Hobby2\"][\"position\"]]\n",
    "hobby2_decoded = encoder_decoder[\"Hobby2\"][\"int_2_name\"][hobby2_encoded]"
   ]
  },
  {
   "cell_type": "code",
   "execution_count": 912,
   "metadata": {},
   "outputs": [
    {
     "data": {
      "text/plain": [
       "[1994, 'marketing', 'football', 'tennis']"
      ]
     },
     "execution_count": 912,
     "metadata": {},
     "output_type": "execute_result"
    }
   ],
   "source": [
    "[age_decoded, job_decoded, hobby1_decoded, hobby2_decoded]"
   ]
  },
  {
   "cell_type": "code",
   "execution_count": null,
   "metadata": {},
   "outputs": [],
   "source": []
  }
 ],
 "metadata": {
  "kernelspec": {
   "display_name": "pytorch",
   "language": "python",
   "name": "pytorch"
  },
  "language_info": {
   "codemirror_mode": {
    "name": "ipython",
    "version": 3
   },
   "file_extension": ".py",
   "mimetype": "text/x-python",
   "name": "python",
   "nbconvert_exporter": "python",
   "pygments_lexer": "ipython3",
   "version": "3.8.3"
  }
 },
 "nbformat": 4,
 "nbformat_minor": 4
}
